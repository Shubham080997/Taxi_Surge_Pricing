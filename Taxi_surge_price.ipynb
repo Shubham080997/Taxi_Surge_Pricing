{
  "nbformat": 4,
  "nbformat_minor": 0,
  "metadata": {
    "colab": {
      "name": "Copy of Taxi_surge_price",
      "provenance": [],
      "collapsed_sections": [],
      "include_colab_link": true
    },
    "kernelspec": {
      "display_name": "Python 3",
      "name": "python3"
    }
  },
  "cells": [
    {
      "cell_type": "markdown",
      "metadata": {
        "id": "view-in-github",
        "colab_type": "text"
      },
      "source": [
        "<a href=\"https://colab.research.google.com/github/Shubham080997/Taxi_Surge_Pricing/blob/main/Taxi_surge_price.ipynb\" target=\"_parent\"><img src=\"https://colab.research.google.com/assets/colab-badge.svg\" alt=\"Open In Colab\"/></a>"
      ]
    },
    {
      "cell_type": "markdown",
      "metadata": {
        "id": "Gp179W8ZY5KG"
      },
      "source": [
        "**PROJECT ON TAXI MOBILITY SURGE PRICE PREDICTION**"
      ]
    },
    {
      "cell_type": "markdown",
      "metadata": {
        "id": "B-KrzKqZZRg0"
      },
      "source": [
        "Data provided by an Indian cab aggregator service Sigma Cabs. Their customers can download their app on smartphones and book a cab from anywhere in the cities they operate in. They, in turn, search for cabs from various service providers and provide the best option to their clients across available options. They have been in operation for a little less than a year now. During this period, they have captured surge pricing types from the service providers. The main objective is to build a predictive model, which could help them in predicting the surge pricing type proactively. This would in turn help them in matching the right cabs with the right customers quickly and efficiently.\n",
        "\n",
        "\n",
        "● Trip_ID: ID for TRIP\n",
        "\n",
        "● Trip_Distance: The distance for the trip requested by the customer\n",
        "\n",
        "● TypeofCab: Category of the cab requested by the customer\n",
        "\n",
        "● CustomerSinceMonths: Customer using cab services since n months; 0 month means the current month\n",
        "\n",
        "● LifeStyleIndex: Proprietary index created by Sigma Cabs showing the lifestyle of the customer based on their behaviour\n",
        "\n",
        "● ConfidenceLifeStyle_Index: Category showing confidence on the index mentioned above\n",
        "\n",
        "● Destination_Type: Sigma Cabs divides any destination into one of the 14 categories.\n",
        "\n",
        "● Customer_Rating: Average of lifetime ratings of the customer till date\n",
        "\n",
        "● CancellationLast1Month: Number of trips cancelled by the customer in last 1 month\n",
        "\n",
        "● Var1, Var2 and Var3: Continuous variables masked by the company. Can be used for\n",
        "\n",
        "modelling purposes\n",
        "\n",
        "● Gender: Gender of the customer\n",
        "\n",
        "● SurgePricingType: Target (can be of 3 types) - DV"
      ]
    },
    {
      "cell_type": "code",
      "metadata": {
        "id": "--NRtg8CZZIN"
      },
      "source": [
        "import pandas as pd\n",
        "import numpy as np\n",
        "import seaborn as sns\n",
        "import matplotlib.pyplot as plt"
      ],
      "execution_count": 1,
      "outputs": []
    },
    {
      "cell_type": "code",
      "metadata": {
        "id": "4ky1xFIEZksB",
        "colab": {
          "base_uri": "https://localhost:8080/"
        },
        "outputId": "f513bbc1-b79a-40f3-c953-4c5fd63e9524"
      },
      "source": [
        "from google.colab import drive\n",
        "drive.mount('/content/drive')"
      ],
      "execution_count": 2,
      "outputs": [
        {
          "output_type": "stream",
          "text": [
            "Drive already mounted at /content/drive; to attempt to forcibly remount, call drive.mount(\"/content/drive\", force_remount=True).\n"
          ],
          "name": "stdout"
        }
      ]
    },
    {
      "cell_type": "code",
      "metadata": {
        "id": "M-bD3GuCZ-Ik"
      },
      "source": [
        "taxi_df = pd.read_csv('/content/drive/MyDrive/Almabetter/Cohort Nilgiri/Module 5/Week 1/Day 1/data_sigma_cabs.csv')"
      ],
      "execution_count": 3,
      "outputs": []
    },
    {
      "cell_type": "code",
      "metadata": {
        "id": "mdVqmIsfZ-CK",
        "colab": {
          "base_uri": "https://localhost:8080/",
          "height": 379
        },
        "outputId": "d588023c-74e1-4a10-e21b-00616333c03a"
      },
      "source": [
        "taxi_df.head(10)"
      ],
      "execution_count": 4,
      "outputs": [
        {
          "output_type": "execute_result",
          "data": {
            "text/html": [
              "<div>\n",
              "<style scoped>\n",
              "    .dataframe tbody tr th:only-of-type {\n",
              "        vertical-align: middle;\n",
              "    }\n",
              "\n",
              "    .dataframe tbody tr th {\n",
              "        vertical-align: top;\n",
              "    }\n",
              "\n",
              "    .dataframe thead th {\n",
              "        text-align: right;\n",
              "    }\n",
              "</style>\n",
              "<table border=\"1\" class=\"dataframe\">\n",
              "  <thead>\n",
              "    <tr style=\"text-align: right;\">\n",
              "      <th></th>\n",
              "      <th>Trip_ID</th>\n",
              "      <th>Trip_Distance</th>\n",
              "      <th>Type_of_Cab</th>\n",
              "      <th>Customer_Since_Months</th>\n",
              "      <th>Life_Style_Index</th>\n",
              "      <th>Confidence_Life_Style_Index</th>\n",
              "      <th>Destination_Type</th>\n",
              "      <th>Customer_Rating</th>\n",
              "      <th>Cancellation_Last_1Month</th>\n",
              "      <th>Var1</th>\n",
              "      <th>Var2</th>\n",
              "      <th>Var3</th>\n",
              "      <th>Gender</th>\n",
              "      <th>Surge_Pricing_Type</th>\n",
              "    </tr>\n",
              "  </thead>\n",
              "  <tbody>\n",
              "    <tr>\n",
              "      <th>0</th>\n",
              "      <td>T0005689460</td>\n",
              "      <td>6.77</td>\n",
              "      <td>B</td>\n",
              "      <td>1.0</td>\n",
              "      <td>2.42769</td>\n",
              "      <td>A</td>\n",
              "      <td>A</td>\n",
              "      <td>3.90500</td>\n",
              "      <td>0</td>\n",
              "      <td>40.0</td>\n",
              "      <td>46</td>\n",
              "      <td>60</td>\n",
              "      <td>Female</td>\n",
              "      <td>2</td>\n",
              "    </tr>\n",
              "    <tr>\n",
              "      <th>1</th>\n",
              "      <td>T0005689461</td>\n",
              "      <td>29.47</td>\n",
              "      <td>B</td>\n",
              "      <td>10.0</td>\n",
              "      <td>2.78245</td>\n",
              "      <td>B</td>\n",
              "      <td>A</td>\n",
              "      <td>3.45000</td>\n",
              "      <td>0</td>\n",
              "      <td>38.0</td>\n",
              "      <td>56</td>\n",
              "      <td>78</td>\n",
              "      <td>Male</td>\n",
              "      <td>2</td>\n",
              "    </tr>\n",
              "    <tr>\n",
              "      <th>2</th>\n",
              "      <td>T0005689464</td>\n",
              "      <td>41.58</td>\n",
              "      <td>NaN</td>\n",
              "      <td>10.0</td>\n",
              "      <td>NaN</td>\n",
              "      <td>NaN</td>\n",
              "      <td>E</td>\n",
              "      <td>3.50125</td>\n",
              "      <td>2</td>\n",
              "      <td>NaN</td>\n",
              "      <td>56</td>\n",
              "      <td>77</td>\n",
              "      <td>Male</td>\n",
              "      <td>2</td>\n",
              "    </tr>\n",
              "    <tr>\n",
              "      <th>3</th>\n",
              "      <td>T0005689465</td>\n",
              "      <td>61.56</td>\n",
              "      <td>C</td>\n",
              "      <td>10.0</td>\n",
              "      <td>NaN</td>\n",
              "      <td>NaN</td>\n",
              "      <td>A</td>\n",
              "      <td>3.45375</td>\n",
              "      <td>0</td>\n",
              "      <td>NaN</td>\n",
              "      <td>52</td>\n",
              "      <td>74</td>\n",
              "      <td>Male</td>\n",
              "      <td>3</td>\n",
              "    </tr>\n",
              "    <tr>\n",
              "      <th>4</th>\n",
              "      <td>T0005689467</td>\n",
              "      <td>54.95</td>\n",
              "      <td>C</td>\n",
              "      <td>10.0</td>\n",
              "      <td>3.03453</td>\n",
              "      <td>B</td>\n",
              "      <td>A</td>\n",
              "      <td>3.40250</td>\n",
              "      <td>4</td>\n",
              "      <td>51.0</td>\n",
              "      <td>49</td>\n",
              "      <td>102</td>\n",
              "      <td>Male</td>\n",
              "      <td>2</td>\n",
              "    </tr>\n",
              "    <tr>\n",
              "      <th>5</th>\n",
              "      <td>T0005689469</td>\n",
              "      <td>19.06</td>\n",
              "      <td>E</td>\n",
              "      <td>10.0</td>\n",
              "      <td>NaN</td>\n",
              "      <td>NaN</td>\n",
              "      <td>A</td>\n",
              "      <td>2.59750</td>\n",
              "      <td>1</td>\n",
              "      <td>72.0</td>\n",
              "      <td>63</td>\n",
              "      <td>91</td>\n",
              "      <td>Male</td>\n",
              "      <td>3</td>\n",
              "    </tr>\n",
              "    <tr>\n",
              "      <th>6</th>\n",
              "      <td>T0005689470</td>\n",
              "      <td>29.72</td>\n",
              "      <td>E</td>\n",
              "      <td>10.0</td>\n",
              "      <td>2.83958</td>\n",
              "      <td>C</td>\n",
              "      <td>B</td>\n",
              "      <td>2.97500</td>\n",
              "      <td>1</td>\n",
              "      <td>83.0</td>\n",
              "      <td>50</td>\n",
              "      <td>75</td>\n",
              "      <td>Male</td>\n",
              "      <td>2</td>\n",
              "    </tr>\n",
              "    <tr>\n",
              "      <th>7</th>\n",
              "      <td>T0005689472</td>\n",
              "      <td>18.44</td>\n",
              "      <td>B</td>\n",
              "      <td>2.0</td>\n",
              "      <td>2.81871</td>\n",
              "      <td>B</td>\n",
              "      <td>A</td>\n",
              "      <td>3.58250</td>\n",
              "      <td>0</td>\n",
              "      <td>103.0</td>\n",
              "      <td>46</td>\n",
              "      <td>63</td>\n",
              "      <td>Male</td>\n",
              "      <td>2</td>\n",
              "    </tr>\n",
              "    <tr>\n",
              "      <th>8</th>\n",
              "      <td>T0005689473</td>\n",
              "      <td>106.80</td>\n",
              "      <td>C</td>\n",
              "      <td>3.0</td>\n",
              "      <td>NaN</td>\n",
              "      <td>NaN</td>\n",
              "      <td>A</td>\n",
              "      <td>3.14625</td>\n",
              "      <td>0</td>\n",
              "      <td>NaN</td>\n",
              "      <td>58</td>\n",
              "      <td>92</td>\n",
              "      <td>Male</td>\n",
              "      <td>2</td>\n",
              "    </tr>\n",
              "    <tr>\n",
              "      <th>9</th>\n",
              "      <td>T0005689474</td>\n",
              "      <td>107.19</td>\n",
              "      <td>D</td>\n",
              "      <td>5.0</td>\n",
              "      <td>3.04467</td>\n",
              "      <td>B</td>\n",
              "      <td>A</td>\n",
              "      <td>2.44375</td>\n",
              "      <td>1</td>\n",
              "      <td>NaN</td>\n",
              "      <td>58</td>\n",
              "      <td>83</td>\n",
              "      <td>Male</td>\n",
              "      <td>3</td>\n",
              "    </tr>\n",
              "  </tbody>\n",
              "</table>\n",
              "</div>"
            ],
            "text/plain": [
              "       Trip_ID  Trip_Distance Type_of_Cab  ...  Var3  Gender Surge_Pricing_Type\n",
              "0  T0005689460           6.77           B  ...    60  Female                  2\n",
              "1  T0005689461          29.47           B  ...    78    Male                  2\n",
              "2  T0005689464          41.58         NaN  ...    77    Male                  2\n",
              "3  T0005689465          61.56           C  ...    74    Male                  3\n",
              "4  T0005689467          54.95           C  ...   102    Male                  2\n",
              "5  T0005689469          19.06           E  ...    91    Male                  3\n",
              "6  T0005689470          29.72           E  ...    75    Male                  2\n",
              "7  T0005689472          18.44           B  ...    63    Male                  2\n",
              "8  T0005689473         106.80           C  ...    92    Male                  2\n",
              "9  T0005689474         107.19           D  ...    83    Male                  3\n",
              "\n",
              "[10 rows x 14 columns]"
            ]
          },
          "metadata": {
            "tags": []
          },
          "execution_count": 4
        }
      ]
    },
    {
      "cell_type": "code",
      "metadata": {
        "id": "WlO6Y9v4aH3Q",
        "colab": {
          "base_uri": "https://localhost:8080/"
        },
        "outputId": "e74fd178-fb59-4c35-c6fb-e32f35803ed2"
      },
      "source": [
        "taxi_df.info()"
      ],
      "execution_count": 5,
      "outputs": [
        {
          "output_type": "stream",
          "text": [
            "<class 'pandas.core.frame.DataFrame'>\n",
            "RangeIndex: 131662 entries, 0 to 131661\n",
            "Data columns (total 14 columns):\n",
            " #   Column                       Non-Null Count   Dtype  \n",
            "---  ------                       --------------   -----  \n",
            " 0   Trip_ID                      131662 non-null  object \n",
            " 1   Trip_Distance                131662 non-null  float64\n",
            " 2   Type_of_Cab                  111452 non-null  object \n",
            " 3   Customer_Since_Months        125742 non-null  float64\n",
            " 4   Life_Style_Index             111469 non-null  float64\n",
            " 5   Confidence_Life_Style_Index  111469 non-null  object \n",
            " 6   Destination_Type             131662 non-null  object \n",
            " 7   Customer_Rating              131662 non-null  float64\n",
            " 8   Cancellation_Last_1Month     131662 non-null  int64  \n",
            " 9   Var1                         60632 non-null   float64\n",
            " 10  Var2                         131662 non-null  int64  \n",
            " 11  Var3                         131662 non-null  int64  \n",
            " 12  Gender                       131662 non-null  object \n",
            " 13  Surge_Pricing_Type           131662 non-null  int64  \n",
            "dtypes: float64(5), int64(4), object(5)\n",
            "memory usage: 14.1+ MB\n"
          ],
          "name": "stdout"
        }
      ]
    },
    {
      "cell_type": "code",
      "metadata": {
        "colab": {
          "base_uri": "https://localhost:8080/",
          "height": 483
        },
        "id": "Hea_OLS7HMtc",
        "outputId": "49e34adc-4f3d-4004-cb65-85d3d718db73"
      },
      "source": [
        "taxi_df.describe(include='all').transpose()"
      ],
      "execution_count": 6,
      "outputs": [
        {
          "output_type": "execute_result",
          "data": {
            "text/html": [
              "<div>\n",
              "<style scoped>\n",
              "    .dataframe tbody tr th:only-of-type {\n",
              "        vertical-align: middle;\n",
              "    }\n",
              "\n",
              "    .dataframe tbody tr th {\n",
              "        vertical-align: top;\n",
              "    }\n",
              "\n",
              "    .dataframe thead th {\n",
              "        text-align: right;\n",
              "    }\n",
              "</style>\n",
              "<table border=\"1\" class=\"dataframe\">\n",
              "  <thead>\n",
              "    <tr style=\"text-align: right;\">\n",
              "      <th></th>\n",
              "      <th>count</th>\n",
              "      <th>unique</th>\n",
              "      <th>top</th>\n",
              "      <th>freq</th>\n",
              "      <th>mean</th>\n",
              "      <th>std</th>\n",
              "      <th>min</th>\n",
              "      <th>25%</th>\n",
              "      <th>50%</th>\n",
              "      <th>75%</th>\n",
              "      <th>max</th>\n",
              "    </tr>\n",
              "  </thead>\n",
              "  <tbody>\n",
              "    <tr>\n",
              "      <th>Trip_ID</th>\n",
              "      <td>131662</td>\n",
              "      <td>131662</td>\n",
              "      <td>T0005770041</td>\n",
              "      <td>1</td>\n",
              "      <td>NaN</td>\n",
              "      <td>NaN</td>\n",
              "      <td>NaN</td>\n",
              "      <td>NaN</td>\n",
              "      <td>NaN</td>\n",
              "      <td>NaN</td>\n",
              "      <td>NaN</td>\n",
              "    </tr>\n",
              "    <tr>\n",
              "      <th>Trip_Distance</th>\n",
              "      <td>131662</td>\n",
              "      <td>NaN</td>\n",
              "      <td>NaN</td>\n",
              "      <td>NaN</td>\n",
              "      <td>44.2009</td>\n",
              "      <td>25.5229</td>\n",
              "      <td>0.31</td>\n",
              "      <td>24.58</td>\n",
              "      <td>38.2</td>\n",
              "      <td>60.73</td>\n",
              "      <td>109.23</td>\n",
              "    </tr>\n",
              "    <tr>\n",
              "      <th>Type_of_Cab</th>\n",
              "      <td>111452</td>\n",
              "      <td>5</td>\n",
              "      <td>B</td>\n",
              "      <td>31136</td>\n",
              "      <td>NaN</td>\n",
              "      <td>NaN</td>\n",
              "      <td>NaN</td>\n",
              "      <td>NaN</td>\n",
              "      <td>NaN</td>\n",
              "      <td>NaN</td>\n",
              "      <td>NaN</td>\n",
              "    </tr>\n",
              "    <tr>\n",
              "      <th>Customer_Since_Months</th>\n",
              "      <td>125742</td>\n",
              "      <td>NaN</td>\n",
              "      <td>NaN</td>\n",
              "      <td>NaN</td>\n",
              "      <td>6.01666</td>\n",
              "      <td>3.62689</td>\n",
              "      <td>0</td>\n",
              "      <td>3</td>\n",
              "      <td>6</td>\n",
              "      <td>10</td>\n",
              "      <td>10</td>\n",
              "    </tr>\n",
              "    <tr>\n",
              "      <th>Life_Style_Index</th>\n",
              "      <td>111469</td>\n",
              "      <td>NaN</td>\n",
              "      <td>NaN</td>\n",
              "      <td>NaN</td>\n",
              "      <td>2.80206</td>\n",
              "      <td>0.225796</td>\n",
              "      <td>1.59638</td>\n",
              "      <td>2.65473</td>\n",
              "      <td>2.79805</td>\n",
              "      <td>2.94678</td>\n",
              "      <td>4.87511</td>\n",
              "    </tr>\n",
              "    <tr>\n",
              "      <th>Confidence_Life_Style_Index</th>\n",
              "      <td>111469</td>\n",
              "      <td>3</td>\n",
              "      <td>B</td>\n",
              "      <td>40355</td>\n",
              "      <td>NaN</td>\n",
              "      <td>NaN</td>\n",
              "      <td>NaN</td>\n",
              "      <td>NaN</td>\n",
              "      <td>NaN</td>\n",
              "      <td>NaN</td>\n",
              "      <td>NaN</td>\n",
              "    </tr>\n",
              "    <tr>\n",
              "      <th>Destination_Type</th>\n",
              "      <td>131662</td>\n",
              "      <td>14</td>\n",
              "      <td>A</td>\n",
              "      <td>77597</td>\n",
              "      <td>NaN</td>\n",
              "      <td>NaN</td>\n",
              "      <td>NaN</td>\n",
              "      <td>NaN</td>\n",
              "      <td>NaN</td>\n",
              "      <td>NaN</td>\n",
              "      <td>NaN</td>\n",
              "    </tr>\n",
              "    <tr>\n",
              "      <th>Customer_Rating</th>\n",
              "      <td>131662</td>\n",
              "      <td>NaN</td>\n",
              "      <td>NaN</td>\n",
              "      <td>NaN</td>\n",
              "      <td>2.84946</td>\n",
              "      <td>0.980675</td>\n",
              "      <td>0.00125</td>\n",
              "      <td>2.1525</td>\n",
              "      <td>2.895</td>\n",
              "      <td>3.5825</td>\n",
              "      <td>5</td>\n",
              "    </tr>\n",
              "    <tr>\n",
              "      <th>Cancellation_Last_1Month</th>\n",
              "      <td>131662</td>\n",
              "      <td>NaN</td>\n",
              "      <td>NaN</td>\n",
              "      <td>NaN</td>\n",
              "      <td>0.782838</td>\n",
              "      <td>1.03756</td>\n",
              "      <td>0</td>\n",
              "      <td>0</td>\n",
              "      <td>0</td>\n",
              "      <td>1</td>\n",
              "      <td>8</td>\n",
              "    </tr>\n",
              "    <tr>\n",
              "      <th>Var1</th>\n",
              "      <td>60632</td>\n",
              "      <td>NaN</td>\n",
              "      <td>NaN</td>\n",
              "      <td>NaN</td>\n",
              "      <td>64.2027</td>\n",
              "      <td>21.8204</td>\n",
              "      <td>30</td>\n",
              "      <td>46</td>\n",
              "      <td>61</td>\n",
              "      <td>80</td>\n",
              "      <td>210</td>\n",
              "    </tr>\n",
              "    <tr>\n",
              "      <th>Var2</th>\n",
              "      <td>131662</td>\n",
              "      <td>NaN</td>\n",
              "      <td>NaN</td>\n",
              "      <td>NaN</td>\n",
              "      <td>51.2028</td>\n",
              "      <td>4.98614</td>\n",
              "      <td>40</td>\n",
              "      <td>48</td>\n",
              "      <td>50</td>\n",
              "      <td>54</td>\n",
              "      <td>124</td>\n",
              "    </tr>\n",
              "    <tr>\n",
              "      <th>Var3</th>\n",
              "      <td>131662</td>\n",
              "      <td>NaN</td>\n",
              "      <td>NaN</td>\n",
              "      <td>NaN</td>\n",
              "      <td>75.099</td>\n",
              "      <td>11.5783</td>\n",
              "      <td>52</td>\n",
              "      <td>67</td>\n",
              "      <td>74</td>\n",
              "      <td>82</td>\n",
              "      <td>206</td>\n",
              "    </tr>\n",
              "    <tr>\n",
              "      <th>Gender</th>\n",
              "      <td>131662</td>\n",
              "      <td>2</td>\n",
              "      <td>Male</td>\n",
              "      <td>93900</td>\n",
              "      <td>NaN</td>\n",
              "      <td>NaN</td>\n",
              "      <td>NaN</td>\n",
              "      <td>NaN</td>\n",
              "      <td>NaN</td>\n",
              "      <td>NaN</td>\n",
              "      <td>NaN</td>\n",
              "    </tr>\n",
              "    <tr>\n",
              "      <th>Surge_Pricing_Type</th>\n",
              "      <td>131662</td>\n",
              "      <td>NaN</td>\n",
              "      <td>NaN</td>\n",
              "      <td>NaN</td>\n",
              "      <td>2.15575</td>\n",
              "      <td>0.738164</td>\n",
              "      <td>1</td>\n",
              "      <td>2</td>\n",
              "      <td>2</td>\n",
              "      <td>3</td>\n",
              "      <td>3</td>\n",
              "    </tr>\n",
              "  </tbody>\n",
              "</table>\n",
              "</div>"
            ],
            "text/plain": [
              "                              count  unique  ...      75%      max\n",
              "Trip_ID                      131662  131662  ...      NaN      NaN\n",
              "Trip_Distance                131662     NaN  ...    60.73   109.23\n",
              "Type_of_Cab                  111452       5  ...      NaN      NaN\n",
              "Customer_Since_Months        125742     NaN  ...       10       10\n",
              "Life_Style_Index             111469     NaN  ...  2.94678  4.87511\n",
              "Confidence_Life_Style_Index  111469       3  ...      NaN      NaN\n",
              "Destination_Type             131662      14  ...      NaN      NaN\n",
              "Customer_Rating              131662     NaN  ...   3.5825        5\n",
              "Cancellation_Last_1Month     131662     NaN  ...        1        8\n",
              "Var1                          60632     NaN  ...       80      210\n",
              "Var2                         131662     NaN  ...       54      124\n",
              "Var3                         131662     NaN  ...       82      206\n",
              "Gender                       131662       2  ...      NaN      NaN\n",
              "Surge_Pricing_Type           131662     NaN  ...        3        3\n",
              "\n",
              "[14 rows x 11 columns]"
            ]
          },
          "metadata": {
            "tags": []
          },
          "execution_count": 6
        }
      ]
    },
    {
      "cell_type": "code",
      "metadata": {
        "id": "upBKJaSWaL7K",
        "colab": {
          "base_uri": "https://localhost:8080/"
        },
        "outputId": "05a35fdc-5f37-4d40-aabd-933606231ac2"
      },
      "source": [
        "taxi_df.duplicated().sum()"
      ],
      "execution_count": 7,
      "outputs": [
        {
          "output_type": "execute_result",
          "data": {
            "text/plain": [
              "0"
            ]
          },
          "metadata": {
            "tags": []
          },
          "execution_count": 7
        }
      ]
    },
    {
      "cell_type": "code",
      "metadata": {
        "id": "Cror14pza-ed",
        "colab": {
          "base_uri": "https://localhost:8080/"
        },
        "outputId": "3a16bcac-94b7-4477-d3a8-eabc043253d4"
      },
      "source": [
        "# Getting the info of null values\n",
        "taxi_df.dropna().isna().info()"
      ],
      "execution_count": 8,
      "outputs": [
        {
          "output_type": "stream",
          "text": [
            "<class 'pandas.core.frame.DataFrame'>\n",
            "Int64Index: 41608 entries, 0 to 131661\n",
            "Data columns (total 14 columns):\n",
            " #   Column                       Non-Null Count  Dtype\n",
            "---  ------                       --------------  -----\n",
            " 0   Trip_ID                      41608 non-null  bool \n",
            " 1   Trip_Distance                41608 non-null  bool \n",
            " 2   Type_of_Cab                  41608 non-null  bool \n",
            " 3   Customer_Since_Months        41608 non-null  bool \n",
            " 4   Life_Style_Index             41608 non-null  bool \n",
            " 5   Confidence_Life_Style_Index  41608 non-null  bool \n",
            " 6   Destination_Type             41608 non-null  bool \n",
            " 7   Customer_Rating              41608 non-null  bool \n",
            " 8   Cancellation_Last_1Month     41608 non-null  bool \n",
            " 9   Var1                         41608 non-null  bool \n",
            " 10  Var2                         41608 non-null  bool \n",
            " 11  Var3                         41608 non-null  bool \n",
            " 12  Gender                       41608 non-null  bool \n",
            " 13  Surge_Pricing_Type           41608 non-null  bool \n",
            "dtypes: bool(14)\n",
            "memory usage: 893.9 KB\n"
          ],
          "name": "stdout"
        }
      ]
    },
    {
      "cell_type": "code",
      "metadata": {
        "id": "CoIGmn-lbYNi",
        "colab": {
          "base_uri": "https://localhost:8080/"
        },
        "outputId": "1c066954-d8e2-4dec-96c8-7d1f005e7bd0"
      },
      "source": [
        "# Checking of multicollinearity\n",
        "from statsmodels.stats.outliers_influence import variance_inflation_factor\n",
        "def calc_vif(X):\n",
        "\n",
        "# Calculating the VIF factor\n",
        "    vif = pd.DataFrame()\n",
        "    vif[\"variables\"] = X.columns\n",
        "    vif[\"VIF\"] = [variance_inflation_factor(X.values, i) for i in range(X.shape[1])]\n",
        "\n",
        "    return(vif)"
      ],
      "execution_count": 9,
      "outputs": [
        {
          "output_type": "stream",
          "text": [
            "/usr/local/lib/python3.7/dist-packages/statsmodels/tools/_testing.py:19: FutureWarning: pandas.util.testing is deprecated. Use the functions in the public API at pandas.testing instead.\n",
            "  import pandas.util.testing as tm\n"
          ],
          "name": "stderr"
        }
      ]
    },
    {
      "cell_type": "code",
      "metadata": {
        "id": "GesiqVF3bKBQ",
        "colab": {
          "base_uri": "https://localhost:8080/",
          "height": 297
        },
        "outputId": "86ca495c-4af4-4e10-90a2-2a45de3b0613"
      },
      "source": [
        "# Getting the VIF factor for the variable\n",
        "calc_vif(taxi_df[[i for i in taxi_df.describe().columns if i not in ['Surge_Pricing_Type']]].dropna())"
      ],
      "execution_count": 10,
      "outputs": [
        {
          "output_type": "execute_result",
          "data": {
            "text/html": [
              "<div>\n",
              "<style scoped>\n",
              "    .dataframe tbody tr th:only-of-type {\n",
              "        vertical-align: middle;\n",
              "    }\n",
              "\n",
              "    .dataframe tbody tr th {\n",
              "        vertical-align: top;\n",
              "    }\n",
              "\n",
              "    .dataframe thead th {\n",
              "        text-align: right;\n",
              "    }\n",
              "</style>\n",
              "<table border=\"1\" class=\"dataframe\">\n",
              "  <thead>\n",
              "    <tr style=\"text-align: right;\">\n",
              "      <th></th>\n",
              "      <th>variables</th>\n",
              "      <th>VIF</th>\n",
              "    </tr>\n",
              "  </thead>\n",
              "  <tbody>\n",
              "    <tr>\n",
              "      <th>0</th>\n",
              "      <td>Trip_Distance</td>\n",
              "      <td>4.873858</td>\n",
              "    </tr>\n",
              "    <tr>\n",
              "      <th>1</th>\n",
              "      <td>Customer_Since_Months</td>\n",
              "      <td>4.024759</td>\n",
              "    </tr>\n",
              "    <tr>\n",
              "      <th>2</th>\n",
              "      <td>Life_Style_Index</td>\n",
              "      <td>145.365898</td>\n",
              "    </tr>\n",
              "    <tr>\n",
              "      <th>3</th>\n",
              "      <td>Customer_Rating</td>\n",
              "      <td>12.332220</td>\n",
              "    </tr>\n",
              "    <tr>\n",
              "      <th>4</th>\n",
              "      <td>Cancellation_Last_1Month</td>\n",
              "      <td>1.648301</td>\n",
              "    </tr>\n",
              "    <tr>\n",
              "      <th>5</th>\n",
              "      <td>Var1</td>\n",
              "      <td>9.124250</td>\n",
              "    </tr>\n",
              "    <tr>\n",
              "      <th>6</th>\n",
              "      <td>Var2</td>\n",
              "      <td>156.300582</td>\n",
              "    </tr>\n",
              "    <tr>\n",
              "      <th>7</th>\n",
              "      <td>Var3</td>\n",
              "      <td>89.595027</td>\n",
              "    </tr>\n",
              "  </tbody>\n",
              "</table>\n",
              "</div>"
            ],
            "text/plain": [
              "                  variables         VIF\n",
              "0             Trip_Distance    4.873858\n",
              "1     Customer_Since_Months    4.024759\n",
              "2          Life_Style_Index  145.365898\n",
              "3           Customer_Rating   12.332220\n",
              "4  Cancellation_Last_1Month    1.648301\n",
              "5                      Var1    9.124250\n",
              "6                      Var2  156.300582\n",
              "7                      Var3   89.595027"
            ]
          },
          "metadata": {
            "tags": []
          },
          "execution_count": 10
        }
      ]
    },
    {
      "cell_type": "code",
      "metadata": {
        "id": "sY9H77FLaT2C"
      },
      "source": [
        "# Dropping the Trip_Id column as it is not of much importance\n",
        "taxi_df.drop(columns=['Trip_ID'],inplace=True)"
      ],
      "execution_count": 11,
      "outputs": []
    },
    {
      "cell_type": "code",
      "metadata": {
        "id": "cpYsZ9AQanun",
        "colab": {
          "base_uri": "https://localhost:8080/"
        },
        "outputId": "ba1d72ed-d4ec-4d67-eb54-53e27b180be4"
      },
      "source": [
        "taxi_df['Surge_Pricing_Type'].value_counts()"
      ],
      "execution_count": 12,
      "outputs": [
        {
          "output_type": "execute_result",
          "data": {
            "text/plain": [
              "2    56728\n",
              "3    47720\n",
              "1    27214\n",
              "Name: Surge_Pricing_Type, dtype: int64"
            ]
          },
          "metadata": {
            "tags": []
          },
          "execution_count": 12
        }
      ]
    },
    {
      "cell_type": "code",
      "metadata": {
        "id": "L_dgCQcCat9q",
        "colab": {
          "base_uri": "https://localhost:8080/",
          "height": 624
        },
        "outputId": "e97b64e1-2821-4a01-dd70-6afe0b3ccf34"
      },
      "source": [
        "# Getting the correlation details\n",
        "fig, ax = plt.subplots(figsize=(10,8))\n",
        "sns.heatmap(taxi_df.corr(),annot=True)"
      ],
      "execution_count": 13,
      "outputs": [
        {
          "output_type": "execute_result",
          "data": {
            "text/plain": [
              "<matplotlib.axes._subplots.AxesSubplot at 0x7f3e13fa1ed0>"
            ]
          },
          "metadata": {
            "tags": []
          },
          "execution_count": 13
        },
        {
          "output_type": "display_data",
          "data": {
            "image/png": "[encoded data removed]",
            "text/plain": [
              "<Figure size 720x576 with 2 Axes>"
            ]
          },
          "metadata": {
            "tags": [],
            "needs_background": "light"
          }
        }
      ]
    },
    {
      "cell_type": "code",
      "metadata": {
        "colab": {
          "base_uri": "https://localhost:8080/",
          "height": 777
        },
        "id": "dbQ5i1aOEhCy",
        "outputId": "f5a776ec-4bea-454c-fc1f-53d736258671"
      },
      "source": [
        "taxi_df.hist(figsize=(15,10))"
      ],
      "execution_count": 14,
      "outputs": [
        {
          "output_type": "execute_result",
          "data": {
            "text/plain": [
              "array([[<matplotlib.axes._subplots.AxesSubplot object at 0x7f3e098bd9d0>,\n",
              "        <matplotlib.axes._subplots.AxesSubplot object at 0x7f3e0985bb10>,\n",
              "        <matplotlib.axes._subplots.AxesSubplot object at 0x7f3e09829690>],\n",
              "       [<matplotlib.axes._subplots.AxesSubplot object at 0x7f3e097e0d10>,\n",
              "        <matplotlib.axes._subplots.AxesSubplot object at 0x7f3e097a13d0>,\n",
              "        <matplotlib.axes._subplots.AxesSubplot object at 0x7f3e0b6a8c90>],\n",
              "       [<matplotlib.axes._subplots.AxesSubplot object at 0x7f3e098c3650>,\n",
              "        <matplotlib.axes._subplots.AxesSubplot object at 0x7f3e09720210>,\n",
              "        <matplotlib.axes._subplots.AxesSubplot object at 0x7f3e09720250>]],\n",
              "      dtype=object)"
            ]
          },
          "metadata": {
            "tags": []
          },
          "execution_count": 14
        },
        {
          "output_type": "display_data",
          "data": {
            "image/png": "[encoded data removed]",
            "text/plain": [
              "<Figure size 1080x720 with 9 Axes>"
            ]
          },
          "metadata": {
            "tags": [],
            "needs_background": "light"
          }
        }
      ]
    },
    {
      "cell_type": "code",
      "metadata": {
        "colab": {
          "base_uri": "https://localhost:8080/",
          "height": 351
        },
        "id": "yS-GLHzeL1sS",
        "outputId": "86aeff86-674b-410e-eb2c-9a9172a08847"
      },
      "source": [
        "sns.countplot(taxi_df['Surge_Pricing_Type'],hue=taxi_df['Gender'])"
      ],
      "execution_count": 15,
      "outputs": [
        {
          "output_type": "stream",
          "text": [
            "/usr/local/lib/python3.7/dist-packages/seaborn/_decorators.py:43: FutureWarning: Pass the following variable as a keyword arg: x. From version 0.12, the only valid positional argument will be `data`, and passing other arguments without an explicit keyword will result in an error or misinterpretation.\n",
            "  FutureWarning\n"
          ],
          "name": "stderr"
        },
        {
          "output_type": "execute_result",
          "data": {
            "text/plain": [
              "<matplotlib.axes._subplots.AxesSubplot at 0x7f3e0b6dc890>"
            ]
          },
          "metadata": {
            "tags": []
          },
          "execution_count": 15
        },
        {
          "output_type": "display_data",
          "data": {
            "image/png": "[encoded data removed]",
            "text/plain": [
              "<Figure size 432x288 with 1 Axes>"
            ]
          },
          "metadata": {
            "tags": [],
            "needs_background": "light"
          }
        }
      ]
    },
    {
      "cell_type": "code",
      "metadata": {
        "colab": {
          "base_uri": "https://localhost:8080/",
          "height": 406
        },
        "id": "d6DrwGcVmGcb",
        "outputId": "edfd77c3-ab08-4b87-b30c-6c312c0a42f2"
      },
      "source": [
        "plt.figure(figsize=(12,5))\n",
        "plt.subplot(1,2,1)\n",
        "sns.countplot(taxi_df['Type_of_Cab'])"
      ],
      "execution_count": 16,
      "outputs": [
        {
          "output_type": "stream",
          "text": [
            "/usr/local/lib/python3.7/dist-packages/seaborn/_decorators.py:43: FutureWarning: Pass the following variable as a keyword arg: x. From version 0.12, the only valid positional argument will be `data`, and passing other arguments without an explicit keyword will result in an error or misinterpretation.\n",
            "  FutureWarning\n"
          ],
          "name": "stderr"
        },
        {
          "output_type": "execute_result",
          "data": {
            "text/plain": [
              "<matplotlib.axes._subplots.AxesSubplot at 0x7f3e093ef690>"
            ]
          },
          "metadata": {
            "tags": []
          },
          "execution_count": 16
        },
        {
          "output_type": "display_data",
          "data": {
            "image/png": "[encoded data removed]",
            "text/plain": [
              "<Figure size 864x360 with 1 Axes>"
            ]
          },
          "metadata": {
            "tags": [],
            "needs_background": "light"
          }
        }
      ]
    },
    {
      "cell_type": "code",
      "metadata": {
        "colab": {
          "base_uri": "https://localhost:8080/",
          "height": 355
        },
        "id": "eT-oNFjYmRc6",
        "outputId": "2915e393-48db-47d9-ff6a-0df68f391406"
      },
      "source": [
        "plt.subplot(1,2,2)\n",
        "sns.countplot(taxi_df['Type_of_Cab'],hue=taxi_df['Surge_Pricing_Type'])"
      ],
      "execution_count": 17,
      "outputs": [
        {
          "output_type": "stream",
          "text": [
            "/usr/local/lib/python3.7/dist-packages/seaborn/_decorators.py:43: FutureWarning: Pass the following variable as a keyword arg: x. From version 0.12, the only valid positional argument will be `data`, and passing other arguments without an explicit keyword will result in an error or misinterpretation.\n",
            "  FutureWarning\n"
          ],
          "name": "stderr"
        },
        {
          "output_type": "execute_result",
          "data": {
            "text/plain": [
              "<matplotlib.axes._subplots.AxesSubplot at 0x7f3e093930d0>"
            ]
          },
          "metadata": {
            "tags": []
          },
          "execution_count": 17
        },
        {
          "output_type": "display_data",
          "data": {
            "image/png": "[encoded data removed]",
            "text/plain": [
              "<Figure size 432x288 with 1 Axes>"
            ]
          },
          "metadata": {
            "tags": [],
            "needs_background": "light"
          }
        }
      ]
    },
    {
      "cell_type": "code",
      "metadata": {
        "colab": {
          "base_uri": "https://localhost:8080/",
          "height": 569
        },
        "id": "8F5QA7dn9VxC",
        "outputId": "76421b48-c7b6-4806-9337-9cc5c6292afe"
      },
      "source": [
        "plt.figure(figsize=(15,8))\n",
        "sns.countplot(taxi_df['Surge_Pricing_Type'],hue=taxi_df['Destination_Type'])"
      ],
      "execution_count": 18,
      "outputs": [
        {
          "output_type": "stream",
          "text": [
            "/usr/local/lib/python3.7/dist-packages/seaborn/_decorators.py:43: FutureWarning: Pass the following variable as a keyword arg: x. From version 0.12, the only valid positional argument will be `data`, and passing other arguments without an explicit keyword will result in an error or misinterpretation.\n",
            "  FutureWarning\n"
          ],
          "name": "stderr"
        },
        {
          "output_type": "execute_result",
          "data": {
            "text/plain": [
              "<matplotlib.axes._subplots.AxesSubplot at 0x7f3e093a6c90>"
            ]
          },
          "metadata": {
            "tags": []
          },
          "execution_count": 18
        },
        {
          "output_type": "display_data",
          "data": {
            "image/png": "[encoded data removed]",
            "text/plain": [
              "<Figure size 1080x576 with 1 Axes>"
            ]
          },
          "metadata": {
            "tags": [],
            "needs_background": "light"
          }
        }
      ]
    },
    {
      "cell_type": "code",
      "metadata": {
        "colab": {
          "base_uri": "https://localhost:8080/",
          "height": 351
        },
        "id": "sOI_Q02nm3Bx",
        "outputId": "58ffda65-cb15-47d1-d398-e36873b2b646"
      },
      "source": [
        "sns.countplot(taxi_df['Destination_Type'])"
      ],
      "execution_count": 19,
      "outputs": [
        {
          "output_type": "stream",
          "text": [
            "/usr/local/lib/python3.7/dist-packages/seaborn/_decorators.py:43: FutureWarning: Pass the following variable as a keyword arg: x. From version 0.12, the only valid positional argument will be `data`, and passing other arguments without an explicit keyword will result in an error or misinterpretation.\n",
            "  FutureWarning\n"
          ],
          "name": "stderr"
        },
        {
          "output_type": "execute_result",
          "data": {
            "text/plain": [
              "<matplotlib.axes._subplots.AxesSubplot at 0x7f3e091c37d0>"
            ]
          },
          "metadata": {
            "tags": []
          },
          "execution_count": 19
        },
        {
          "output_type": "display_data",
          "data": {
            "image/png": "[encoded data removed]",
            "text/plain": [
              "<Figure size 432x288 with 1 Axes>"
            ]
          },
          "metadata": {
            "tags": [],
            "needs_background": "light"
          }
        }
      ]
    },
    {
      "cell_type": "code",
      "metadata": {
        "colab": {
          "base_uri": "https://localhost:8080/"
        },
        "id": "z2cl7yHcZDKI",
        "outputId": "3fbdaa72-f05f-4409-cc4a-59c47f5bccee"
      },
      "source": [
        "taxi_df.groupby(['Destination_Type'])['Surge_Pricing_Type'].value_counts()"
      ],
      "execution_count": 20,
      "outputs": [
        {
          "output_type": "execute_result",
          "data": {
            "text/plain": [
              "Destination_Type  Surge_Pricing_Type\n",
              "A                 2                     33913\n",
              "                  3                     29932\n",
              "                  1                     13752\n",
              "B                 2                     13681\n",
              "                  1                      8477\n",
              "                  3                      7397\n",
              "C                 2                      3093\n",
              "                  3                      2613\n",
              "                  1                      1778\n",
              "D                 3                      3468\n",
              "                  2                      2260\n",
              "                  1                       860\n",
              "E                 2                      1101\n",
              "                  1                       820\n",
              "                  3                       796\n",
              "F                 3                      1061\n",
              "                  2                       626\n",
              "                  1                       263\n",
              "G                 2                       597\n",
              "                  1                       529\n",
              "                  3                       363\n",
              "H                 3                       614\n",
              "                  2                       468\n",
              "                  1                       178\n",
              "I                 3                       466\n",
              "                  2                       248\n",
              "                  1                        99\n",
              "J                 3                       347\n",
              "                  2                       235\n",
              "                  1                       113\n",
              "K                 3                       290\n",
              "                  2                       226\n",
              "                  1                       164\n",
              "L                 3                       317\n",
              "                  2                       195\n",
              "                  1                       131\n",
              "M                 3                        48\n",
              "                  2                        26\n",
              "                  1                        19\n",
              "N                 2                        59\n",
              "                  1                        31\n",
              "                  3                         8\n",
              "Name: Surge_Pricing_Type, dtype: int64"
            ]
          },
          "metadata": {
            "tags": []
          },
          "execution_count": 20
        }
      ]
    },
    {
      "cell_type": "code",
      "metadata": {
        "colab": {
          "base_uri": "https://localhost:8080/",
          "height": 351
        },
        "id": "9lW1GGviWYAO",
        "outputId": "0dc20da6-3ae9-430a-bde3-0cd6a759d22a"
      },
      "source": [
        "sns.scatterplot(taxi_df['Surge_Pricing_Type'],taxi_df['Cancellation_Last_1Month'])"
      ],
      "execution_count": 21,
      "outputs": [
        {
          "output_type": "stream",
          "text": [
            "/usr/local/lib/python3.7/dist-packages/seaborn/_decorators.py:43: FutureWarning: Pass the following variables as keyword args: x, y. From version 0.12, the only valid positional argument will be `data`, and passing other arguments without an explicit keyword will result in an error or misinterpretation.\n",
            "  FutureWarning\n"
          ],
          "name": "stderr"
        },
        {
          "output_type": "execute_result",
          "data": {
            "text/plain": [
              "<matplotlib.axes._subplots.AxesSubplot at 0x7f3e090f3990>"
            ]
          },
          "metadata": {
            "tags": []
          },
          "execution_count": 21
        },
        {
          "output_type": "display_data",
          "data": {
            "image/png": "[encoded data removed]",
            "text/plain": [
              "<Figure size 432x288 with 1 Axes>"
            ]
          },
          "metadata": {
            "tags": [],
            "needs_background": "light"
          }
        }
      ]
    },
    {
      "cell_type": "code",
      "metadata": {
        "colab": {
          "base_uri": "https://localhost:8080/",
          "height": 351
        },
        "id": "i9NU2oy6Wx6D",
        "outputId": "188e7c32-3082-4d47-d207-5004bedc044b"
      },
      "source": [
        "sns.boxplot(taxi_df['Surge_Pricing_Type'],taxi_df['Customer_Rating'])"
      ],
      "execution_count": 22,
      "outputs": [
        {
          "output_type": "stream",
          "text": [
            "/usr/local/lib/python3.7/dist-packages/seaborn/_decorators.py:43: FutureWarning: Pass the following variables as keyword args: x, y. From version 0.12, the only valid positional argument will be `data`, and passing other arguments without an explicit keyword will result in an error or misinterpretation.\n",
            "  FutureWarning\n"
          ],
          "name": "stderr"
        },
        {
          "output_type": "execute_result",
          "data": {
            "text/plain": [
              "<matplotlib.axes._subplots.AxesSubplot at 0x7f3e09092790>"
            ]
          },
          "metadata": {
            "tags": []
          },
          "execution_count": 22
        },
        {
          "output_type": "display_data",
          "data": {
            "image/png": "[encoded data removed]",
            "text/plain": [
              "<Figure size 432x288 with 1 Axes>"
            ]
          },
          "metadata": {
            "tags": [],
            "needs_background": "light"
          }
        }
      ]
    },
    {
      "cell_type": "code",
      "metadata": {
        "colab": {
          "base_uri": "https://localhost:8080/",
          "height": 351
        },
        "id": "DXmi_dugX8jA",
        "outputId": "dee8d26b-7555-4721-acaa-11f172e4b3e6"
      },
      "source": [
        "sns.boxplot(taxi_df['Surge_Pricing_Type'],taxi_df['Var2'])"
      ],
      "execution_count": 23,
      "outputs": [
        {
          "output_type": "stream",
          "text": [
            "/usr/local/lib/python3.7/dist-packages/seaborn/_decorators.py:43: FutureWarning: Pass the following variables as keyword args: x, y. From version 0.12, the only valid positional argument will be `data`, and passing other arguments without an explicit keyword will result in an error or misinterpretation.\n",
            "  FutureWarning\n"
          ],
          "name": "stderr"
        },
        {
          "output_type": "execute_result",
          "data": {
            "text/plain": [
              "<matplotlib.axes._subplots.AxesSubplot at 0x7f3e09448e90>"
            ]
          },
          "metadata": {
            "tags": []
          },
          "execution_count": 23
        },
        {
          "output_type": "display_data",
          "data": {
            "image/png": "[encoded data removed]",
            "text/plain": [
              "<Figure size 432x288 with 1 Axes>"
            ]
          },
          "metadata": {
            "tags": [],
            "needs_background": "light"
          }
        }
      ]
    },
    {
      "cell_type": "code",
      "metadata": {
        "colab": {
          "base_uri": "https://localhost:8080/",
          "height": 351
        },
        "id": "4wnXg7v9YFp2",
        "outputId": "d8a042ba-2c4f-494b-eb8e-76ad6eb48b50"
      },
      "source": [
        "sns.boxplot(taxi_df['Surge_Pricing_Type'],taxi_df['Var3'])"
      ],
      "execution_count": 24,
      "outputs": [
        {
          "output_type": "stream",
          "text": [
            "/usr/local/lib/python3.7/dist-packages/seaborn/_decorators.py:43: FutureWarning: Pass the following variables as keyword args: x, y. From version 0.12, the only valid positional argument will be `data`, and passing other arguments without an explicit keyword will result in an error or misinterpretation.\n",
            "  FutureWarning\n"
          ],
          "name": "stderr"
        },
        {
          "output_type": "execute_result",
          "data": {
            "text/plain": [
              "<matplotlib.axes._subplots.AxesSubplot at 0x7f3e08f822d0>"
            ]
          },
          "metadata": {
            "tags": []
          },
          "execution_count": 24
        },
        {
          "output_type": "display_data",
          "data": {
            "image/png": "[encoded data removed]",
            "text/plain": [
              "<Figure size 432x288 with 1 Axes>"
            ]
          },
          "metadata": {
            "tags": [],
            "needs_background": "light"
          }
        }
      ]
    },
    {
      "cell_type": "markdown",
      "metadata": {
        "id": "mPalQhWELcTH"
      },
      "source": [
        "Data Cleaning and Handling Null Values\n"
      ]
    },
    {
      "cell_type": "code",
      "metadata": {
        "colab": {
          "base_uri": "https://localhost:8080/"
        },
        "id": "ZaJ1urnvfjPh",
        "outputId": "8eda7acc-c7fc-4709-c648-7f555fe6120c"
      },
      "source": [
        "taxi_df.isna().sum()"
      ],
      "execution_count": 25,
      "outputs": [
        {
          "output_type": "execute_result",
          "data": {
            "text/plain": [
              "Trip_Distance                      0\n",
              "Type_of_Cab                    20210\n",
              "Customer_Since_Months           5920\n",
              "Life_Style_Index               20193\n",
              "Confidence_Life_Style_Index    20193\n",
              "Destination_Type                   0\n",
              "Customer_Rating                    0\n",
              "Cancellation_Last_1Month           0\n",
              "Var1                           71030\n",
              "Var2                               0\n",
              "Var3                               0\n",
              "Gender                             0\n",
              "Surge_Pricing_Type                 0\n",
              "dtype: int64"
            ]
          },
          "metadata": {
            "tags": []
          },
          "execution_count": 25
        }
      ]
    },
    {
      "cell_type": "code",
      "metadata": {
        "id": "JB4pZ0DotkPq"
      },
      "source": [
        "del taxi_df['Var1']"
      ],
      "execution_count": 26,
      "outputs": []
    },
    {
      "cell_type": "code",
      "metadata": {
        "id": "HAeEnl3Lg1MZ"
      },
      "source": [
        "# Imputation of all the null values\n",
        "taxi_df['Type_of_Cab']=taxi_df['Type_of_Cab'].fillna(taxi_df['Type_of_Cab'].mode().iloc[0])\n",
        "taxi_df['Customer_Since_Months']=taxi_df['Customer_Since_Months'].fillna(taxi_df['Customer_Since_Months'].median())\n",
        "taxi_df['Life_Style_Index']=taxi_df['Life_Style_Index'].fillna(taxi_df['Life_Style_Index'].median())\n",
        "taxi_df['Confidence_Life_Style_Index']=taxi_df['Confidence_Life_Style_Index'].fillna(taxi_df['Confidence_Life_Style_Index'].mode().iloc[0])\n",
        "#taxi_df['Var1']=taxi_df['Var1'].fillna(taxi_df['Var1'].median())"
      ],
      "execution_count": 27,
      "outputs": []
    },
    {
      "cell_type": "code",
      "metadata": {
        "colab": {
          "base_uri": "https://localhost:8080/"
        },
        "id": "sMcQr34Qi8M1",
        "outputId": "36d706a9-8fa5-4186-e03a-c552225abcfa"
      },
      "source": [
        "taxi_df.isna().any()"
      ],
      "execution_count": 28,
      "outputs": [
        {
          "output_type": "execute_result",
          "data": {
            "text/plain": [
              "Trip_Distance                  False\n",
              "Type_of_Cab                    False\n",
              "Customer_Since_Months          False\n",
              "Life_Style_Index               False\n",
              "Confidence_Life_Style_Index    False\n",
              "Destination_Type               False\n",
              "Customer_Rating                False\n",
              "Cancellation_Last_1Month       False\n",
              "Var2                           False\n",
              "Var3                           False\n",
              "Gender                         False\n",
              "Surge_Pricing_Type             False\n",
              "dtype: bool"
            ]
          },
          "metadata": {
            "tags": []
          },
          "execution_count": 28
        }
      ]
    },
    {
      "cell_type": "code",
      "metadata": {
        "id": "SmNSAwT5jDY9"
      },
      "source": [
        "# Using label encoder to change the categorical data into numerical data\n",
        "from sklearn.preprocessing import LabelEncoder\n",
        "encoder=LabelEncoder()"
      ],
      "execution_count": 29,
      "outputs": []
    },
    {
      "cell_type": "code",
      "metadata": {
        "id": "QxHp-fUAjN0m"
      },
      "source": [
        "taxi_df['Type_of_Cab']=encoder.fit_transform(taxi_df['Type_of_Cab'])\n",
        "taxi_df['Confidence_Life_Style_Index']=encoder.fit_transform(taxi_df['Confidence_Life_Style_Index'])\n",
        "taxi_df['Destination_Type']=encoder.fit_transform(taxi_df['Destination_Type'])\n",
        "taxi_df['Gender']=encoder.fit_transform(taxi_df['Gender'])"
      ],
      "execution_count": 30,
      "outputs": []
    },
    {
      "cell_type": "code",
      "metadata": {
        "colab": {
          "base_uri": "https://localhost:8080/"
        },
        "id": "5HOp7r1ajZU4",
        "outputId": "a3c2587a-05f5-4c22-eb7b-dd74760dfec3"
      },
      "source": [
        "taxi_df.dtypes"
      ],
      "execution_count": 31,
      "outputs": [
        {
          "output_type": "execute_result",
          "data": {
            "text/plain": [
              "Trip_Distance                  float64\n",
              "Type_of_Cab                      int64\n",
              "Customer_Since_Months          float64\n",
              "Life_Style_Index               float64\n",
              "Confidence_Life_Style_Index      int64\n",
              "Destination_Type                 int64\n",
              "Customer_Rating                float64\n",
              "Cancellation_Last_1Month         int64\n",
              "Var2                             int64\n",
              "Var3                             int64\n",
              "Gender                           int64\n",
              "Surge_Pricing_Type               int64\n",
              "dtype: object"
            ]
          },
          "metadata": {
            "tags": []
          },
          "execution_count": 31
        }
      ]
    },
    {
      "cell_type": "markdown",
      "metadata": {
        "id": "Gea8UpXtkn0h"
      },
      "source": [
        "**Visualisation**(After treating null values)"
      ]
    },
    {
      "cell_type": "code",
      "metadata": {
        "colab": {
          "base_uri": "https://localhost:8080/",
          "height": 297
        },
        "id": "Fs3peIiRknAQ",
        "outputId": "70f54ac7-8158-4f7b-c751-4d0f1c220458"
      },
      "source": [
        "sns.countplot(x=taxi_df['Surge_Pricing_Type'])"
      ],
      "execution_count": 32,
      "outputs": [
        {
          "output_type": "execute_result",
          "data": {
            "text/plain": [
              "<matplotlib.axes._subplots.AxesSubplot at 0x7f3e27148d50>"
            ]
          },
          "metadata": {
            "tags": []
          },
          "execution_count": 32
        },
        {
          "output_type": "display_data",
          "data": {
            "image/png": "[encoded data removed]",
            "text/plain": [
              "<Figure size 432x288 with 1 Axes>"
            ]
          },
          "metadata": {
            "tags": [],
            "needs_background": "light"
          }
        }
      ]
    },
    {
      "cell_type": "code",
      "metadata": {
        "colab": {
          "base_uri": "https://localhost:8080/",
          "height": 297
        },
        "id": "efVtbps8k4LG",
        "outputId": "a94d7228-ddfa-4938-af6c-fe881d465131"
      },
      "source": [
        "sns.countplot(x=taxi_df['Surge_Pricing_Type'],hue=(taxi_df['Gender']))"
      ],
      "execution_count": 33,
      "outputs": [
        {
          "output_type": "execute_result",
          "data": {
            "text/plain": [
              "<matplotlib.axes._subplots.AxesSubplot at 0x7f3e07b7ac90>"
            ]
          },
          "metadata": {
            "tags": []
          },
          "execution_count": 33
        },
        {
          "output_type": "display_data",
          "data": {
            "image/png": "[encoded data removed]",
            "text/plain": [
              "<Figure size 432x288 with 1 Axes>"
            ]
          },
          "metadata": {
            "tags": [],
            "needs_background": "light"
          }
        }
      ]
    },
    {
      "cell_type": "code",
      "metadata": {
        "colab": {
          "base_uri": "https://localhost:8080/",
          "height": 297
        },
        "id": "2xqzRootk9Rj",
        "outputId": "ecaa3a20-7ab3-4cc9-c6a4-eec05ab3f277"
      },
      "source": [
        "sns.countplot(x=taxi_df['Destination_Type'])"
      ],
      "execution_count": 34,
      "outputs": [
        {
          "output_type": "execute_result",
          "data": {
            "text/plain": [
              "<matplotlib.axes._subplots.AxesSubplot at 0x7f3e07afe390>"
            ]
          },
          "metadata": {
            "tags": []
          },
          "execution_count": 34
        },
        {
          "output_type": "display_data",
          "data": {
            "image/png": "[encoded data removed]",
            "text/plain": [
              "<Figure size 432x288 with 1 Axes>"
            ]
          },
          "metadata": {
            "tags": [],
            "needs_background": "light"
          }
        }
      ]
    },
    {
      "cell_type": "code",
      "metadata": {
        "colab": {
          "base_uri": "https://localhost:8080/",
          "height": 296
        },
        "id": "HXWHSKZFlELy",
        "outputId": "bc3df488-9200-4498-9351-7c1b96290712"
      },
      "source": [
        "sns.countplot(x=taxi_df['Gender']) # 1 for male; 0 for Female"
      ],
      "execution_count": 35,
      "outputs": [
        {
          "output_type": "execute_result",
          "data": {
            "text/plain": [
              "<matplotlib.axes._subplots.AxesSubplot at 0x7f3e07a30290>"
            ]
          },
          "metadata": {
            "tags": []
          },
          "execution_count": 35
        },
        {
          "output_type": "display_data",
          "data": {
            "image/png": "[encoded data removed]",
            "text/plain": [
              "<Figure size 432x288 with 1 Axes>"
            ]
          },
          "metadata": {
            "tags": [],
            "needs_background": "light"
          }
        }
      ]
    },
    {
      "cell_type": "code",
      "metadata": {
        "colab": {
          "base_uri": "https://localhost:8080/",
          "height": 297
        },
        "id": "gaq20e_olLBz",
        "outputId": "b7d64d6f-105e-4355-e0be-f239c76eca84"
      },
      "source": [
        "sns.boxplot(x=taxi_df['Life_Style_Index'])"
      ],
      "execution_count": 36,
      "outputs": [
        {
          "output_type": "execute_result",
          "data": {
            "text/plain": [
              "<matplotlib.axes._subplots.AxesSubplot at 0x7f3e07a09cd0>"
            ]
          },
          "metadata": {
            "tags": []
          },
          "execution_count": 36
        },
        {
          "output_type": "display_data",
          "data": {
            "image/png": "[encoded data removed]",
            "text/plain": [
              "<Figure size 432x288 with 1 Axes>"
            ]
          },
          "metadata": {
            "tags": [],
            "needs_background": "light"
          }
        }
      ]
    },
    {
      "cell_type": "code",
      "metadata": {
        "colab": {
          "base_uri": "https://localhost:8080/",
          "height": 297
        },
        "id": "rY88h1X3lU0H",
        "outputId": "53d668b3-0880-4c14-bbac-d3fc3af41153"
      },
      "source": [
        "sns.boxplot(x=taxi_df['Surge_Pricing_Type'])"
      ],
      "execution_count": 37,
      "outputs": [
        {
          "output_type": "execute_result",
          "data": {
            "text/plain": [
              "<matplotlib.axes._subplots.AxesSubplot at 0x7f3e07972690>"
            ]
          },
          "metadata": {
            "tags": []
          },
          "execution_count": 37
        },
        {
          "output_type": "display_data",
          "data": {
            "image/png": "[encoded data removed]",
            "text/plain": [
              "<Figure size 432x288 with 1 Axes>"
            ]
          },
          "metadata": {
            "tags": [],
            "needs_background": "light"
          }
        }
      ]
    },
    {
      "cell_type": "code",
      "metadata": {
        "colab": {
          "base_uri": "https://localhost:8080/",
          "height": 1000
        },
        "id": "wKjfWFcFmQ2q",
        "outputId": "4301e19a-77f9-42b7-8a32-b3c6851c2361"
      },
      "source": [
        "plt.figure(figsize=(20,20))\n",
        "sns.heatmap(taxi_df.corr(),annot=True)"
      ],
      "execution_count": 38,
      "outputs": [
        {
          "output_type": "execute_result",
          "data": {
            "text/plain": [
              "<matplotlib.axes._subplots.AxesSubplot at 0x7f3e079827d0>"
            ]
          },
          "metadata": {
            "tags": []
          },
          "execution_count": 38
        },
        {
          "output_type": "display_data",
          "data": {
            "image/png": "[encoded data removed]",
            "text/plain": [
              "<Figure size 1440x1440 with 2 Axes>"
            ]
          },
          "metadata": {
            "tags": [],
            "needs_background": "light"
          }
        }
      ]
    },
    {
      "cell_type": "markdown",
      "metadata": {
        "id": "Me5jlDEFpVNs"
      },
      "source": [
        "**Feature Selection**\n"
      ]
    },
    {
      "cell_type": "code",
      "metadata": {
        "colab": {
          "base_uri": "https://localhost:8080/"
        },
        "id": "sT4bRZTYpgpQ",
        "outputId": "b7d4b4b7-8ef1-4a84-ad39-7f6ad8eabd4b"
      },
      "source": [
        "#Creating the predictors and target\n",
        "x=taxi_df.iloc[:,taxi_df.columns !='Surge_Pricing_Type']\n",
        "y=taxi_df['Surge_Pricing_Type']\n",
        "x.shape"
      ],
      "execution_count": 39,
      "outputs": [
        {
          "output_type": "execute_result",
          "data": {
            "text/plain": [
              "(131662, 11)"
            ]
          },
          "metadata": {
            "tags": []
          },
          "execution_count": 39
        }
      ]
    },
    {
      "cell_type": "code",
      "metadata": {
        "id": "hwLlI73Hrnbe"
      },
      "source": [
        "from sklearn.ensemble import ExtraTreesClassifier\n",
        "ET=ExtraTreesClassifier()"
      ],
      "execution_count": 40,
      "outputs": []
    },
    {
      "cell_type": "code",
      "metadata": {
        "colab": {
          "base_uri": "https://localhost:8080/"
        },
        "id": "1Lfyf0issBb1",
        "outputId": "b31c3b49-153b-4959-d065-a347cc4e8c8e"
      },
      "source": [
        "ET.fit(x,y)\n",
        "imp_features=pd.Series(ET.feature_importances_,index=x.columns).sort_values(ascending=False)\n",
        "imp_features\n",
        "#The features with the lowest scores can be removed."
      ],
      "execution_count": 41,
      "outputs": [
        {
          "output_type": "execute_result",
          "data": {
            "text/plain": [
              "Type_of_Cab                    0.251941\n",
              "Trip_Distance                  0.124387\n",
              "Customer_Rating                0.117766\n",
              "Life_Style_Index               0.109318\n",
              "Var3                           0.106025\n",
              "Var2                           0.096738\n",
              "Customer_Since_Months          0.069605\n",
              "Destination_Type               0.044611\n",
              "Cancellation_Last_1Month       0.037499\n",
              "Confidence_Life_Style_Index    0.022914\n",
              "Gender                         0.019197\n",
              "dtype: float64"
            ]
          },
          "metadata": {
            "tags": []
          },
          "execution_count": 41
        }
      ]
    },
    {
      "cell_type": "code",
      "metadata": {
        "colab": {
          "base_uri": "https://localhost:8080/",
          "height": 282
        },
        "id": "AyrYUajPwk_m",
        "outputId": "4b678064-4ffe-453f-87ea-c9cfefa43c42"
      },
      "source": [
        "from sklearn.feature_selection import mutual_info_classif\n",
        "%matplotlib inline\n",
        "\n",
        "data = mutual_info_classif(x,y)\n",
        "data1 = pd.Series(data, taxi_df.columns[0:len(taxi_df.columns)-1])\n",
        "data1.plot(kind= 'barh', color = 'teal')\n",
        "plt.show"
      ],
      "execution_count": 42,
      "outputs": [
        {
          "output_type": "execute_result",
          "data": {
            "text/plain": [
              "<function matplotlib.pyplot.show>"
            ]
          },
          "metadata": {
            "tags": []
          },
          "execution_count": 42
        },
        {
          "output_type": "display_data",
          "data": {
            "image/png": "[encoded data removed]",
            "text/plain": [
              "<Figure size 432x288 with 1 Axes>"
            ]
          },
          "metadata": {
            "tags": [],
            "needs_background": "light"
          }
        }
      ]
    },
    {
      "cell_type": "code",
      "metadata": {
        "id": "RWFrT8gL7yXv"
      },
      "source": [
        "from sklearn.metrics import accuracy_score,recall_score,precision_score,confusion_matrix"
      ],
      "execution_count": 43,
      "outputs": []
    },
    {
      "cell_type": "code",
      "metadata": {
        "colab": {
          "base_uri": "https://localhost:8080/"
        },
        "id": "k5GrFSzkMtUQ",
        "outputId": "4c4f587a-08df-470f-9e87-c989178186d5"
      },
      "source": [
        "y.shape"
      ],
      "execution_count": 55,
      "outputs": [
        {
          "output_type": "execute_result",
          "data": {
            "text/plain": [
              "(131662,)"
            ]
          },
          "metadata": {
            "tags": []
          },
          "execution_count": 55
        }
      ]
    },
    {
      "cell_type": "code",
      "metadata": {
        "colab": {
          "base_uri": "https://localhost:8080/"
        },
        "id": "d-IS2op_7h4y",
        "outputId": "407b619f-eff0-4015-da3e-898c29c2fcc0"
      },
      "source": [
        "from sklearn.model_selection import train_test_split\n",
        "x_train,x_test,y_train,y_test=train_test_split(x,y,test_size=0.3)\n",
        "y_train.shape"
      ],
      "execution_count": 57,
      "outputs": [
        {
          "output_type": "execute_result",
          "data": {
            "text/plain": [
              "(92163,)"
            ]
          },
          "metadata": {
            "tags": []
          },
          "execution_count": 57
        }
      ]
    },
    {
      "cell_type": "code",
      "metadata": {
        "id": "PR2cAN-s822Y"
      },
      "source": [
        "from sklearn.preprocessing import StandardScaler"
      ],
      "execution_count": 45,
      "outputs": []
    },
    {
      "cell_type": "code",
      "metadata": {
        "id": "UvPFaq9ODqVc"
      },
      "source": [
        "scaler = StandardScaler()\n",
        "xs_train = scaler.fit_transform(x_train)\n",
        "x_test = x_test.to_numpy()\n",
        "x_test = x_test.reshape(-1,1)\n",
        "xs_test = scaler.fit_transform(x_test)"
      ],
      "execution_count": 46,
      "outputs": []
    },
    {
      "cell_type": "code",
      "metadata": {
        "id": "Z7ipX-xWHyim"
      },
      "source": [
        "from sklearn.linear_model import LogisticRegression\n",
        "log = LogisticRegression(max_iter=200)\n"
      ],
      "execution_count": 70,
      "outputs": []
    },
    {
      "cell_type": "code",
      "metadata": {
        "colab": {
          "base_uri": "https://localhost:8080/",
          "height": 439
        },
        "id": "h8vBl0HiMIOu",
        "outputId": "a46b7ef0-57f8-4481-8c46-a44fb9e4175e"
      },
      "source": [
        "y_train"
      ],
      "execution_count": 54,
      "outputs": [
        {
          "output_type": "execute_result",
          "data": {
            "text/html": [
              "<div>\n",
              "<style scoped>\n",
              "    .dataframe tbody tr th:only-of-type {\n",
              "        vertical-align: middle;\n",
              "    }\n",
              "\n",
              "    .dataframe tbody tr th {\n",
              "        vertical-align: top;\n",
              "    }\n",
              "\n",
              "    .dataframe thead th {\n",
              "        text-align: right;\n",
              "    }\n",
              "</style>\n",
              "<table border=\"1\" class=\"dataframe\">\n",
              "  <thead>\n",
              "    <tr style=\"text-align: right;\">\n",
              "      <th></th>\n",
              "      <th>Trip_Distance</th>\n",
              "      <th>Type_of_Cab</th>\n",
              "      <th>Customer_Since_Months</th>\n",
              "      <th>Life_Style_Index</th>\n",
              "      <th>Confidence_Life_Style_Index</th>\n",
              "      <th>Destination_Type</th>\n",
              "      <th>Customer_Rating</th>\n",
              "      <th>Cancellation_Last_1Month</th>\n",
              "      <th>Var2</th>\n",
              "      <th>Var3</th>\n",
              "      <th>Gender</th>\n",
              "    </tr>\n",
              "  </thead>\n",
              "  <tbody>\n",
              "    <tr>\n",
              "      <th>28027</th>\n",
              "      <td>7.26</td>\n",
              "      <td>4</td>\n",
              "      <td>2.0</td>\n",
              "      <td>2.43140</td>\n",
              "      <td>2</td>\n",
              "      <td>0</td>\n",
              "      <td>2.17625</td>\n",
              "      <td>1</td>\n",
              "      <td>53</td>\n",
              "      <td>68</td>\n",
              "      <td>1</td>\n",
              "    </tr>\n",
              "    <tr>\n",
              "      <th>129872</th>\n",
              "      <td>47.65</td>\n",
              "      <td>0</td>\n",
              "      <td>9.0</td>\n",
              "      <td>2.97616</td>\n",
              "      <td>0</td>\n",
              "      <td>0</td>\n",
              "      <td>2.98375</td>\n",
              "      <td>0</td>\n",
              "      <td>55</td>\n",
              "      <td>78</td>\n",
              "      <td>1</td>\n",
              "    </tr>\n",
              "    <tr>\n",
              "      <th>32396</th>\n",
              "      <td>28.83</td>\n",
              "      <td>3</td>\n",
              "      <td>2.0</td>\n",
              "      <td>2.52195</td>\n",
              "      <td>0</td>\n",
              "      <td>0</td>\n",
              "      <td>3.30000</td>\n",
              "      <td>0</td>\n",
              "      <td>50</td>\n",
              "      <td>74</td>\n",
              "      <td>0</td>\n",
              "    </tr>\n",
              "    <tr>\n",
              "      <th>63846</th>\n",
              "      <td>30.97</td>\n",
              "      <td>1</td>\n",
              "      <td>4.0</td>\n",
              "      <td>2.64378</td>\n",
              "      <td>0</td>\n",
              "      <td>0</td>\n",
              "      <td>3.69375</td>\n",
              "      <td>0</td>\n",
              "      <td>54</td>\n",
              "      <td>69</td>\n",
              "      <td>1</td>\n",
              "    </tr>\n",
              "    <tr>\n",
              "      <th>83862</th>\n",
              "      <td>3.40</td>\n",
              "      <td>0</td>\n",
              "      <td>8.0</td>\n",
              "      <td>2.65630</td>\n",
              "      <td>2</td>\n",
              "      <td>7</td>\n",
              "      <td>2.73375</td>\n",
              "      <td>0</td>\n",
              "      <td>47</td>\n",
              "      <td>70</td>\n",
              "      <td>1</td>\n",
              "    </tr>\n",
              "    <tr>\n",
              "      <th>...</th>\n",
              "      <td>...</td>\n",
              "      <td>...</td>\n",
              "      <td>...</td>\n",
              "      <td>...</td>\n",
              "      <td>...</td>\n",
              "      <td>...</td>\n",
              "      <td>...</td>\n",
              "      <td>...</td>\n",
              "      <td>...</td>\n",
              "      <td>...</td>\n",
              "      <td>...</td>\n",
              "    </tr>\n",
              "    <tr>\n",
              "      <th>125729</th>\n",
              "      <td>106.83</td>\n",
              "      <td>1</td>\n",
              "      <td>8.0</td>\n",
              "      <td>2.95027</td>\n",
              "      <td>1</td>\n",
              "      <td>1</td>\n",
              "      <td>3.34375</td>\n",
              "      <td>0</td>\n",
              "      <td>46</td>\n",
              "      <td>60</td>\n",
              "      <td>1</td>\n",
              "    </tr>\n",
              "    <tr>\n",
              "      <th>95864</th>\n",
              "      <td>18.41</td>\n",
              "      <td>1</td>\n",
              "      <td>0.0</td>\n",
              "      <td>2.46388</td>\n",
              "      <td>2</td>\n",
              "      <td>0</td>\n",
              "      <td>4.11000</td>\n",
              "      <td>1</td>\n",
              "      <td>46</td>\n",
              "      <td>57</td>\n",
              "      <td>0</td>\n",
              "    </tr>\n",
              "    <tr>\n",
              "      <th>34005</th>\n",
              "      <td>45.16</td>\n",
              "      <td>0</td>\n",
              "      <td>10.0</td>\n",
              "      <td>2.89736</td>\n",
              "      <td>0</td>\n",
              "      <td>0</td>\n",
              "      <td>2.03750</td>\n",
              "      <td>2</td>\n",
              "      <td>58</td>\n",
              "      <td>92</td>\n",
              "      <td>1</td>\n",
              "    </tr>\n",
              "    <tr>\n",
              "      <th>76656</th>\n",
              "      <td>25.31</td>\n",
              "      <td>1</td>\n",
              "      <td>8.0</td>\n",
              "      <td>2.91622</td>\n",
              "      <td>2</td>\n",
              "      <td>6</td>\n",
              "      <td>3.87000</td>\n",
              "      <td>0</td>\n",
              "      <td>50</td>\n",
              "      <td>98</td>\n",
              "      <td>1</td>\n",
              "    </tr>\n",
              "    <tr>\n",
              "      <th>119270</th>\n",
              "      <td>61.65</td>\n",
              "      <td>0</td>\n",
              "      <td>5.0</td>\n",
              "      <td>2.90060</td>\n",
              "      <td>0</td>\n",
              "      <td>4</td>\n",
              "      <td>4.53125</td>\n",
              "      <td>0</td>\n",
              "      <td>48</td>\n",
              "      <td>62</td>\n",
              "      <td>1</td>\n",
              "    </tr>\n",
              "  </tbody>\n",
              "</table>\n",
              "<p>39499 rows × 11 columns</p>\n",
              "</div>"
            ],
            "text/plain": [
              "        Trip_Distance  Type_of_Cab  Customer_Since_Months  ...  Var2  Var3  Gender\n",
              "28027            7.26            4                    2.0  ...    53    68       1\n",
              "129872          47.65            0                    9.0  ...    55    78       1\n",
              "32396           28.83            3                    2.0  ...    50    74       0\n",
              "63846           30.97            1                    4.0  ...    54    69       1\n",
              "83862            3.40            0                    8.0  ...    47    70       1\n",
              "...               ...          ...                    ...  ...   ...   ...     ...\n",
              "125729         106.83            1                    8.0  ...    46    60       1\n",
              "95864           18.41            1                    0.0  ...    46    57       0\n",
              "34005           45.16            0                   10.0  ...    58    92       1\n",
              "76656           25.31            1                    8.0  ...    50    98       1\n",
              "119270          61.65            0                    5.0  ...    48    62       1\n",
              "\n",
              "[39499 rows x 11 columns]"
            ]
          },
          "metadata": {
            "tags": []
          },
          "execution_count": 54
        }
      ]
    },
    {
      "cell_type": "code",
      "metadata": {
        "colab": {
          "base_uri": "https://localhost:8080/"
        },
        "id": "timjcezXJ6j8",
        "outputId": "69197665-cedd-4125-c863-ffef56ad2357"
      },
      "source": [
        "model = log.fit(x_train,y_train)\n",
        "y_pred1 = model.predict(x_test)"
      ],
      "execution_count": 71,
      "outputs": [
        {
          "output_type": "stream",
          "text": [
            "/usr/local/lib/python3.7/dist-packages/sklearn/linear_model/_logistic.py:940: ConvergenceWarning: lbfgs failed to converge (status=1):\n",
            "STOP: TOTAL NO. of ITERATIONS REACHED LIMIT.\n",
            "\n",
            "Increase the number of iterations (max_iter) or scale the data as shown in:\n",
            "    https://scikit-learn.org/stable/modules/preprocessing.html\n",
            "Please also refer to the documentation for alternative solver options:\n",
            "    https://scikit-learn.org/stable/modules/linear_model.html#logistic-regression\n",
            "  extra_warning_msg=_LOGISTIC_SOLVER_CONVERGENCE_MSG)\n"
          ],
          "name": "stderr"
        }
      ]
    },
    {
      "cell_type": "code",
      "metadata": {
        "colab": {
          "base_uri": "https://localhost:8080/"
        },
        "id": "hsLWd1cROfA6",
        "outputId": "ab54c7fe-b34e-47e4-bd9d-956fc2f19cd9"
      },
      "source": [
        "accuracy_score(y_test,y_pred1)*100"
      ],
      "execution_count": 72,
      "outputs": [
        {
          "output_type": "execute_result",
          "data": {
            "text/plain": [
              "64.48770854958353"
            ]
          },
          "metadata": {
            "tags": []
          },
          "execution_count": 72
        }
      ]
    }
  ]
}