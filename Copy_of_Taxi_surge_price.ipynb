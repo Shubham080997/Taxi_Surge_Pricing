{
  "nbformat": 4,
  "nbformat_minor": 0,
  "metadata": {
    "colab": {
      "name": "Copy of Taxi_surge_price",
      "provenance": [],
      "collapsed_sections": [],
      "include_colab_link": true
    },
    "kernelspec": {
      "display_name": "Python 3",
      "name": "python3"
    }
  },
  "cells": [
    {
      "cell_type": "markdown",
      "metadata": {
        "id": "view-in-github",
        "colab_type": "text"
      },
      "source": [
        "<a href=\"https://colab.research.google.com/github/Shubham080997/Taxi_Surge_Pricing/blob/main/Copy_of_Taxi_surge_price.ipynb\" target=\"_parent\"><img src=\"https://colab.research.google.com/assets/colab-badge.svg\" alt=\"Open In Colab\"/></a>"
      ]
    },
    {
      "cell_type": "markdown",
      "metadata": {
        "id": "Gp179W8ZY5KG"
      },
      "source": [
        "**PROJECT ON TAXI MOBILITY SURGE PRICE PREDICTION**"
      ]
    },
    {
      "cell_type": "markdown",
      "metadata": {
        "id": "B-KrzKqZZRg0"
      },
      "source": [
        "Data provided by an Indian cab aggregator service Sigma Cabs. Their customers can download their app on smartphones and book a cab from anywhere in the cities they operate in. They, in turn, search for cabs from various service providers and provide the best option to their clients across available options. They have been in operation for a little less than a year now. During this period, they have captured surge pricing types from the service providers. The main objective is to build a predictive model, which could help them in predicting the surge pricing type proactively. This would in turn help them in matching the right cabs with the right customers quickly and efficiently.\n",
        "\n",
        "\n",
        "● Trip_ID: ID for TRIP\n",
        "\n",
        "● Trip_Distance: The distance for the trip requested by the customer\n",
        "\n",
        "● TypeofCab: Category of the cab requested by the customer\n",
        "\n",
        "● CustomerSinceMonths: Customer using cab services since n months; 0 month means the current month\n",
        "\n",
        "● LifeStyleIndex: Proprietary index created by Sigma Cabs showing the lifestyle of the customer based on their behaviour\n",
        "\n",
        "● ConfidenceLifeStyle_Index: Category showing confidence on the index mentioned above\n",
        "\n",
        "● Destination_Type: Sigma Cabs divides any destination into one of the 14 categories.\n",
        "\n",
        "● Customer_Rating: Average of lifetime ratings of the customer till date\n",
        "\n",
        "● CancellationLast1Month: Number of trips cancelled by the customer in last 1 month\n",
        "\n",
        "● Var1, Var2 and Var3: Continuous variables masked by the company. Can be used for\n",
        "\n",
        "modelling purposes\n",
        "\n",
        "● Gender: Gender of the customer\n",
        "\n",
        "● SurgePricingType: Target (can be of 3 types) - DV"
      ]
    },
    {
      "cell_type": "markdown",
      "metadata": {
        "id": "_p_Dvhg3_SIe"
      },
      "source": [
        "Importing the necessary library"
      ]
    },
    {
      "cell_type": "code",
      "metadata": {
        "id": "--NRtg8CZZIN"
      },
      "source": [
        "import pandas as pd\n",
        "import numpy as np\n",
        "import seaborn as sns\n",
        "import matplotlib.pyplot as plt"
      ],
      "execution_count": 1,
      "outputs": []
    },
    {
      "cell_type": "code",
      "metadata": {
        "id": "4ky1xFIEZksB",
        "colab": {
          "base_uri": "https://localhost:8080/"
        },
        "outputId": "d1b70b60-5980-4693-a6b8-37931fad2749"
      },
      "source": [
        "from google.colab import drive\n",
        "drive.mount('/content/drive')"
      ],
      "execution_count": 2,
      "outputs": [
        {
          "output_type": "stream",
          "text": [
            "Mounted at /content/drive\n"
          ],
          "name": "stdout"
        }
      ]
    },
    {
      "cell_type": "code",
      "metadata": {
        "id": "M-bD3GuCZ-Ik"
      },
      "source": [
        "taxi_df = pd.read_csv('/content/drive/MyDrive/Almabetter/Cohort Nilgiri/Module 5/Week 1/Day 1/data_sigma_cabs.csv')"
      ],
      "execution_count": 3,
      "outputs": []
    },
    {
      "cell_type": "code",
      "metadata": {
        "id": "mdVqmIsfZ-CK",
        "colab": {
          "base_uri": "https://localhost:8080/",
          "height": 379
        },
        "outputId": "c1fbed98-e6be-4f22-ff75-543278136e9f"
      },
      "source": [
        "taxi_df.head(10)"
      ],
      "execution_count": 4,
      "outputs": [
        {
          "output_type": "execute_result",
          "data": {
            "text/html": [
              "<div>\n",
              "<style scoped>\n",
              "    .dataframe tbody tr th:only-of-type {\n",
              "        vertical-align: middle;\n",
              "    }\n",
              "\n",
              "    .dataframe tbody tr th {\n",
              "        vertical-align: top;\n",
              "    }\n",
              "\n",
              "    .dataframe thead th {\n",
              "        text-align: right;\n",
              "    }\n",
              "</style>\n",
              "<table border=\"1\" class=\"dataframe\">\n",
              "  <thead>\n",
              "    <tr style=\"text-align: right;\">\n",
              "      <th></th>\n",
              "      <th>Trip_ID</th>\n",
              "      <th>Trip_Distance</th>\n",
              "      <th>Type_of_Cab</th>\n",
              "      <th>Customer_Since_Months</th>\n",
              "      <th>Life_Style_Index</th>\n",
              "      <th>Confidence_Life_Style_Index</th>\n",
              "      <th>Destination_Type</th>\n",
              "      <th>Customer_Rating</th>\n",
              "      <th>Cancellation_Last_1Month</th>\n",
              "      <th>Var1</th>\n",
              "      <th>Var2</th>\n",
              "      <th>Var3</th>\n",
              "      <th>Gender</th>\n",
              "      <th>Surge_Pricing_Type</th>\n",
              "    </tr>\n",
              "  </thead>\n",
              "  <tbody>\n",
              "    <tr>\n",
              "      <th>0</th>\n",
              "      <td>T0005689460</td>\n",
              "      <td>6.77</td>\n",
              "      <td>B</td>\n",
              "      <td>1.0</td>\n",
              "      <td>2.42769</td>\n",
              "      <td>A</td>\n",
              "      <td>A</td>\n",
              "      <td>3.90500</td>\n",
              "      <td>0</td>\n",
              "      <td>40.0</td>\n",
              "      <td>46</td>\n",
              "      <td>60</td>\n",
              "      <td>Female</td>\n",
              "      <td>2</td>\n",
              "    </tr>\n",
              "    <tr>\n",
              "      <th>1</th>\n",
              "      <td>T0005689461</td>\n",
              "      <td>29.47</td>\n",
              "      <td>B</td>\n",
              "      <td>10.0</td>\n",
              "      <td>2.78245</td>\n",
              "      <td>B</td>\n",
              "      <td>A</td>\n",
              "      <td>3.45000</td>\n",
              "      <td>0</td>\n",
              "      <td>38.0</td>\n",
              "      <td>56</td>\n",
              "      <td>78</td>\n",
              "      <td>Male</td>\n",
              "      <td>2</td>\n",
              "    </tr>\n",
              "    <tr>\n",
              "      <th>2</th>\n",
              "      <td>T0005689464</td>\n",
              "      <td>41.58</td>\n",
              "      <td>NaN</td>\n",
              "      <td>10.0</td>\n",
              "      <td>NaN</td>\n",
              "      <td>NaN</td>\n",
              "      <td>E</td>\n",
              "      <td>3.50125</td>\n",
              "      <td>2</td>\n",
              "      <td>NaN</td>\n",
              "      <td>56</td>\n",
              "      <td>77</td>\n",
              "      <td>Male</td>\n",
              "      <td>2</td>\n",
              "    </tr>\n",
              "    <tr>\n",
              "      <th>3</th>\n",
              "      <td>T0005689465</td>\n",
              "      <td>61.56</td>\n",
              "      <td>C</td>\n",
              "      <td>10.0</td>\n",
              "      <td>NaN</td>\n",
              "      <td>NaN</td>\n",
              "      <td>A</td>\n",
              "      <td>3.45375</td>\n",
              "      <td>0</td>\n",
              "      <td>NaN</td>\n",
              "      <td>52</td>\n",
              "      <td>74</td>\n",
              "      <td>Male</td>\n",
              "      <td>3</td>\n",
              "    </tr>\n",
              "    <tr>\n",
              "      <th>4</th>\n",
              "      <td>T0005689467</td>\n",
              "      <td>54.95</td>\n",
              "      <td>C</td>\n",
              "      <td>10.0</td>\n",
              "      <td>3.03453</td>\n",
              "      <td>B</td>\n",
              "      <td>A</td>\n",
              "      <td>3.40250</td>\n",
              "      <td>4</td>\n",
              "      <td>51.0</td>\n",
              "      <td>49</td>\n",
              "      <td>102</td>\n",
              "      <td>Male</td>\n",
              "      <td>2</td>\n",
              "    </tr>\n",
              "    <tr>\n",
              "      <th>5</th>\n",
              "      <td>T0005689469</td>\n",
              "      <td>19.06</td>\n",
              "      <td>E</td>\n",
              "      <td>10.0</td>\n",
              "      <td>NaN</td>\n",
              "      <td>NaN</td>\n",
              "      <td>A</td>\n",
              "      <td>2.59750</td>\n",
              "      <td>1</td>\n",
              "      <td>72.0</td>\n",
              "      <td>63</td>\n",
              "      <td>91</td>\n",
              "      <td>Male</td>\n",
              "      <td>3</td>\n",
              "    </tr>\n",
              "    <tr>\n",
              "      <th>6</th>\n",
              "      <td>T0005689470</td>\n",
              "      <td>29.72</td>\n",
              "      <td>E</td>\n",
              "      <td>10.0</td>\n",
              "      <td>2.83958</td>\n",
              "      <td>C</td>\n",
              "      <td>B</td>\n",
              "      <td>2.97500</td>\n",
              "      <td>1</td>\n",
              "      <td>83.0</td>\n",
              "      <td>50</td>\n",
              "      <td>75</td>\n",
              "      <td>Male</td>\n",
              "      <td>2</td>\n",
              "    </tr>\n",
              "    <tr>\n",
              "      <th>7</th>\n",
              "      <td>T0005689472</td>\n",
              "      <td>18.44</td>\n",
              "      <td>B</td>\n",
              "      <td>2.0</td>\n",
              "      <td>2.81871</td>\n",
              "      <td>B</td>\n",
              "      <td>A</td>\n",
              "      <td>3.58250</td>\n",
              "      <td>0</td>\n",
              "      <td>103.0</td>\n",
              "      <td>46</td>\n",
              "      <td>63</td>\n",
              "      <td>Male</td>\n",
              "      <td>2</td>\n",
              "    </tr>\n",
              "    <tr>\n",
              "      <th>8</th>\n",
              "      <td>T0005689473</td>\n",
              "      <td>106.80</td>\n",
              "      <td>C</td>\n",
              "      <td>3.0</td>\n",
              "      <td>NaN</td>\n",
              "      <td>NaN</td>\n",
              "      <td>A</td>\n",
              "      <td>3.14625</td>\n",
              "      <td>0</td>\n",
              "      <td>NaN</td>\n",
              "      <td>58</td>\n",
              "      <td>92</td>\n",
              "      <td>Male</td>\n",
              "      <td>2</td>\n",
              "    </tr>\n",
              "    <tr>\n",
              "      <th>9</th>\n",
              "      <td>T0005689474</td>\n",
              "      <td>107.19</td>\n",
              "      <td>D</td>\n",
              "      <td>5.0</td>\n",
              "      <td>3.04467</td>\n",
              "      <td>B</td>\n",
              "      <td>A</td>\n",
              "      <td>2.44375</td>\n",
              "      <td>1</td>\n",
              "      <td>NaN</td>\n",
              "      <td>58</td>\n",
              "      <td>83</td>\n",
              "      <td>Male</td>\n",
              "      <td>3</td>\n",
              "    </tr>\n",
              "  </tbody>\n",
              "</table>\n",
              "</div>"
            ],
            "text/plain": [
              "       Trip_ID  Trip_Distance Type_of_Cab  ...  Var3  Gender Surge_Pricing_Type\n",
              "0  T0005689460           6.77           B  ...    60  Female                  2\n",
              "1  T0005689461          29.47           B  ...    78    Male                  2\n",
              "2  T0005689464          41.58         NaN  ...    77    Male                  2\n",
              "3  T0005689465          61.56           C  ...    74    Male                  3\n",
              "4  T0005689467          54.95           C  ...   102    Male                  2\n",
              "5  T0005689469          19.06           E  ...    91    Male                  3\n",
              "6  T0005689470          29.72           E  ...    75    Male                  2\n",
              "7  T0005689472          18.44           B  ...    63    Male                  2\n",
              "8  T0005689473         106.80           C  ...    92    Male                  2\n",
              "9  T0005689474         107.19           D  ...    83    Male                  3\n",
              "\n",
              "[10 rows x 14 columns]"
            ]
          },
          "metadata": {
            "tags": []
          },
          "execution_count": 4
        }
      ]
    },
    {
      "cell_type": "code",
      "metadata": {
        "id": "WlO6Y9v4aH3Q",
        "colab": {
          "base_uri": "https://localhost:8080/"
        },
        "outputId": "f5bcd115-2f6f-423b-b15d-e2625b7657e3"
      },
      "source": [
        "taxi_df.info()"
      ],
      "execution_count": 5,
      "outputs": [
        {
          "output_type": "stream",
          "text": [
            "<class 'pandas.core.frame.DataFrame'>\n",
            "RangeIndex: 131662 entries, 0 to 131661\n",
            "Data columns (total 14 columns):\n",
            " #   Column                       Non-Null Count   Dtype  \n",
            "---  ------                       --------------   -----  \n",
            " 0   Trip_ID                      131662 non-null  object \n",
            " 1   Trip_Distance                131662 non-null  float64\n",
            " 2   Type_of_Cab                  111452 non-null  object \n",
            " 3   Customer_Since_Months        125742 non-null  float64\n",
            " 4   Life_Style_Index             111469 non-null  float64\n",
            " 5   Confidence_Life_Style_Index  111469 non-null  object \n",
            " 6   Destination_Type             131662 non-null  object \n",
            " 7   Customer_Rating              131662 non-null  float64\n",
            " 8   Cancellation_Last_1Month     131662 non-null  int64  \n",
            " 9   Var1                         60632 non-null   float64\n",
            " 10  Var2                         131662 non-null  int64  \n",
            " 11  Var3                         131662 non-null  int64  \n",
            " 12  Gender                       131662 non-null  object \n",
            " 13  Surge_Pricing_Type           131662 non-null  int64  \n",
            "dtypes: float64(5), int64(4), object(5)\n",
            "memory usage: 14.1+ MB\n"
          ],
          "name": "stdout"
        }
      ]
    },
    {
      "cell_type": "code",
      "metadata": {
        "id": "6iBSuDuP7svf"
      },
      "source": [
        "taxi_copy = taxi_df.copy()"
      ],
      "execution_count": 6,
      "outputs": []
    },
    {
      "cell_type": "code",
      "metadata": {
        "colab": {
          "base_uri": "https://localhost:8080/",
          "height": 483
        },
        "id": "Hea_OLS7HMtc",
        "outputId": "ba752bc3-ddf8-4b33-db60-5e53348f5a5b"
      },
      "source": [
        "taxi_df.describe(include='all').transpose()"
      ],
      "execution_count": 7,
      "outputs": [
        {
          "output_type": "execute_result",
          "data": {
            "text/html": [
              "<div>\n",
              "<style scoped>\n",
              "    .dataframe tbody tr th:only-of-type {\n",
              "        vertical-align: middle;\n",
              "    }\n",
              "\n",
              "    .dataframe tbody tr th {\n",
              "        vertical-align: top;\n",
              "    }\n",
              "\n",
              "    .dataframe thead th {\n",
              "        text-align: right;\n",
              "    }\n",
              "</style>\n",
              "<table border=\"1\" class=\"dataframe\">\n",
              "  <thead>\n",
              "    <tr style=\"text-align: right;\">\n",
              "      <th></th>\n",
              "      <th>count</th>\n",
              "      <th>unique</th>\n",
              "      <th>top</th>\n",
              "      <th>freq</th>\n",
              "      <th>mean</th>\n",
              "      <th>std</th>\n",
              "      <th>min</th>\n",
              "      <th>25%</th>\n",
              "      <th>50%</th>\n",
              "      <th>75%</th>\n",
              "      <th>max</th>\n",
              "    </tr>\n",
              "  </thead>\n",
              "  <tbody>\n",
              "    <tr>\n",
              "      <th>Trip_ID</th>\n",
              "      <td>131662</td>\n",
              "      <td>131662</td>\n",
              "      <td>T0005811120</td>\n",
              "      <td>1</td>\n",
              "      <td>NaN</td>\n",
              "      <td>NaN</td>\n",
              "      <td>NaN</td>\n",
              "      <td>NaN</td>\n",
              "      <td>NaN</td>\n",
              "      <td>NaN</td>\n",
              "      <td>NaN</td>\n",
              "    </tr>\n",
              "    <tr>\n",
              "      <th>Trip_Distance</th>\n",
              "      <td>131662</td>\n",
              "      <td>NaN</td>\n",
              "      <td>NaN</td>\n",
              "      <td>NaN</td>\n",
              "      <td>44.2009</td>\n",
              "      <td>25.5229</td>\n",
              "      <td>0.31</td>\n",
              "      <td>24.58</td>\n",
              "      <td>38.2</td>\n",
              "      <td>60.73</td>\n",
              "      <td>109.23</td>\n",
              "    </tr>\n",
              "    <tr>\n",
              "      <th>Type_of_Cab</th>\n",
              "      <td>111452</td>\n",
              "      <td>5</td>\n",
              "      <td>B</td>\n",
              "      <td>31136</td>\n",
              "      <td>NaN</td>\n",
              "      <td>NaN</td>\n",
              "      <td>NaN</td>\n",
              "      <td>NaN</td>\n",
              "      <td>NaN</td>\n",
              "      <td>NaN</td>\n",
              "      <td>NaN</td>\n",
              "    </tr>\n",
              "    <tr>\n",
              "      <th>Customer_Since_Months</th>\n",
              "      <td>125742</td>\n",
              "      <td>NaN</td>\n",
              "      <td>NaN</td>\n",
              "      <td>NaN</td>\n",
              "      <td>6.01666</td>\n",
              "      <td>3.62689</td>\n",
              "      <td>0</td>\n",
              "      <td>3</td>\n",
              "      <td>6</td>\n",
              "      <td>10</td>\n",
              "      <td>10</td>\n",
              "    </tr>\n",
              "    <tr>\n",
              "      <th>Life_Style_Index</th>\n",
              "      <td>111469</td>\n",
              "      <td>NaN</td>\n",
              "      <td>NaN</td>\n",
              "      <td>NaN</td>\n",
              "      <td>2.80206</td>\n",
              "      <td>0.225796</td>\n",
              "      <td>1.59638</td>\n",
              "      <td>2.65473</td>\n",
              "      <td>2.79805</td>\n",
              "      <td>2.94678</td>\n",
              "      <td>4.87511</td>\n",
              "    </tr>\n",
              "    <tr>\n",
              "      <th>Confidence_Life_Style_Index</th>\n",
              "      <td>111469</td>\n",
              "      <td>3</td>\n",
              "      <td>B</td>\n",
              "      <td>40355</td>\n",
              "      <td>NaN</td>\n",
              "      <td>NaN</td>\n",
              "      <td>NaN</td>\n",
              "      <td>NaN</td>\n",
              "      <td>NaN</td>\n",
              "      <td>NaN</td>\n",
              "      <td>NaN</td>\n",
              "    </tr>\n",
              "    <tr>\n",
              "      <th>Destination_Type</th>\n",
              "      <td>131662</td>\n",
              "      <td>14</td>\n",
              "      <td>A</td>\n",
              "      <td>77597</td>\n",
              "      <td>NaN</td>\n",
              "      <td>NaN</td>\n",
              "      <td>NaN</td>\n",
              "      <td>NaN</td>\n",
              "      <td>NaN</td>\n",
              "      <td>NaN</td>\n",
              "      <td>NaN</td>\n",
              "    </tr>\n",
              "    <tr>\n",
              "      <th>Customer_Rating</th>\n",
              "      <td>131662</td>\n",
              "      <td>NaN</td>\n",
              "      <td>NaN</td>\n",
              "      <td>NaN</td>\n",
              "      <td>2.84946</td>\n",
              "      <td>0.980675</td>\n",
              "      <td>0.00125</td>\n",
              "      <td>2.1525</td>\n",
              "      <td>2.895</td>\n",
              "      <td>3.5825</td>\n",
              "      <td>5</td>\n",
              "    </tr>\n",
              "    <tr>\n",
              "      <th>Cancellation_Last_1Month</th>\n",
              "      <td>131662</td>\n",
              "      <td>NaN</td>\n",
              "      <td>NaN</td>\n",
              "      <td>NaN</td>\n",
              "      <td>0.782838</td>\n",
              "      <td>1.03756</td>\n",
              "      <td>0</td>\n",
              "      <td>0</td>\n",
              "      <td>0</td>\n",
              "      <td>1</td>\n",
              "      <td>8</td>\n",
              "    </tr>\n",
              "    <tr>\n",
              "      <th>Var1</th>\n",
              "      <td>60632</td>\n",
              "      <td>NaN</td>\n",
              "      <td>NaN</td>\n",
              "      <td>NaN</td>\n",
              "      <td>64.2027</td>\n",
              "      <td>21.8204</td>\n",
              "      <td>30</td>\n",
              "      <td>46</td>\n",
              "      <td>61</td>\n",
              "      <td>80</td>\n",
              "      <td>210</td>\n",
              "    </tr>\n",
              "    <tr>\n",
              "      <th>Var2</th>\n",
              "      <td>131662</td>\n",
              "      <td>NaN</td>\n",
              "      <td>NaN</td>\n",
              "      <td>NaN</td>\n",
              "      <td>51.2028</td>\n",
              "      <td>4.98614</td>\n",
              "      <td>40</td>\n",
              "      <td>48</td>\n",
              "      <td>50</td>\n",
              "      <td>54</td>\n",
              "      <td>124</td>\n",
              "    </tr>\n",
              "    <tr>\n",
              "      <th>Var3</th>\n",
              "      <td>131662</td>\n",
              "      <td>NaN</td>\n",
              "      <td>NaN</td>\n",
              "      <td>NaN</td>\n",
              "      <td>75.099</td>\n",
              "      <td>11.5783</td>\n",
              "      <td>52</td>\n",
              "      <td>67</td>\n",
              "      <td>74</td>\n",
              "      <td>82</td>\n",
              "      <td>206</td>\n",
              "    </tr>\n",
              "    <tr>\n",
              "      <th>Gender</th>\n",
              "      <td>131662</td>\n",
              "      <td>2</td>\n",
              "      <td>Male</td>\n",
              "      <td>93900</td>\n",
              "      <td>NaN</td>\n",
              "      <td>NaN</td>\n",
              "      <td>NaN</td>\n",
              "      <td>NaN</td>\n",
              "      <td>NaN</td>\n",
              "      <td>NaN</td>\n",
              "      <td>NaN</td>\n",
              "    </tr>\n",
              "    <tr>\n",
              "      <th>Surge_Pricing_Type</th>\n",
              "      <td>131662</td>\n",
              "      <td>NaN</td>\n",
              "      <td>NaN</td>\n",
              "      <td>NaN</td>\n",
              "      <td>2.15575</td>\n",
              "      <td>0.738164</td>\n",
              "      <td>1</td>\n",
              "      <td>2</td>\n",
              "      <td>2</td>\n",
              "      <td>3</td>\n",
              "      <td>3</td>\n",
              "    </tr>\n",
              "  </tbody>\n",
              "</table>\n",
              "</div>"
            ],
            "text/plain": [
              "                              count  unique  ...      75%      max\n",
              "Trip_ID                      131662  131662  ...      NaN      NaN\n",
              "Trip_Distance                131662     NaN  ...    60.73   109.23\n",
              "Type_of_Cab                  111452       5  ...      NaN      NaN\n",
              "Customer_Since_Months        125742     NaN  ...       10       10\n",
              "Life_Style_Index             111469     NaN  ...  2.94678  4.87511\n",
              "Confidence_Life_Style_Index  111469       3  ...      NaN      NaN\n",
              "Destination_Type             131662      14  ...      NaN      NaN\n",
              "Customer_Rating              131662     NaN  ...   3.5825        5\n",
              "Cancellation_Last_1Month     131662     NaN  ...        1        8\n",
              "Var1                          60632     NaN  ...       80      210\n",
              "Var2                         131662     NaN  ...       54      124\n",
              "Var3                         131662     NaN  ...       82      206\n",
              "Gender                       131662       2  ...      NaN      NaN\n",
              "Surge_Pricing_Type           131662     NaN  ...        3        3\n",
              "\n",
              "[14 rows x 11 columns]"
            ]
          },
          "metadata": {
            "tags": []
          },
          "execution_count": 7
        }
      ]
    },
    {
      "cell_type": "code",
      "metadata": {
        "id": "upBKJaSWaL7K",
        "colab": {
          "base_uri": "https://localhost:8080/"
        },
        "outputId": "11498673-f11a-4e83-d15c-130e22d6a2b8"
      },
      "source": [
        "taxi_df.duplicated().sum()"
      ],
      "execution_count": 8,
      "outputs": [
        {
          "output_type": "execute_result",
          "data": {
            "text/plain": [
              "0"
            ]
          },
          "metadata": {
            "tags": []
          },
          "execution_count": 8
        }
      ]
    },
    {
      "cell_type": "code",
      "metadata": {
        "id": "Cror14pza-ed",
        "colab": {
          "base_uri": "https://localhost:8080/"
        },
        "outputId": "108133fe-7351-457b-fae1-4a6e55a10fe8"
      },
      "source": [
        "# Getting the info of null values\n",
        "taxi_df.dropna().isna().info()"
      ],
      "execution_count": 9,
      "outputs": [
        {
          "output_type": "stream",
          "text": [
            "<class 'pandas.core.frame.DataFrame'>\n",
            "Int64Index: 41608 entries, 0 to 131661\n",
            "Data columns (total 14 columns):\n",
            " #   Column                       Non-Null Count  Dtype\n",
            "---  ------                       --------------  -----\n",
            " 0   Trip_ID                      41608 non-null  bool \n",
            " 1   Trip_Distance                41608 non-null  bool \n",
            " 2   Type_of_Cab                  41608 non-null  bool \n",
            " 3   Customer_Since_Months        41608 non-null  bool \n",
            " 4   Life_Style_Index             41608 non-null  bool \n",
            " 5   Confidence_Life_Style_Index  41608 non-null  bool \n",
            " 6   Destination_Type             41608 non-null  bool \n",
            " 7   Customer_Rating              41608 non-null  bool \n",
            " 8   Cancellation_Last_1Month     41608 non-null  bool \n",
            " 9   Var1                         41608 non-null  bool \n",
            " 10  Var2                         41608 non-null  bool \n",
            " 11  Var3                         41608 non-null  bool \n",
            " 12  Gender                       41608 non-null  bool \n",
            " 13  Surge_Pricing_Type           41608 non-null  bool \n",
            "dtypes: bool(14)\n",
            "memory usage: 893.9 KB\n"
          ],
          "name": "stdout"
        }
      ]
    },
    {
      "cell_type": "code",
      "metadata": {
        "id": "CoIGmn-lbYNi",
        "colab": {
          "base_uri": "https://localhost:8080/"
        },
        "outputId": "86a4eaa3-56e9-45ca-c961-0ab97d060b03"
      },
      "source": [
        "# Checking of multicollinearity\n",
        "from statsmodels.stats.outliers_influence import variance_inflation_factor\n",
        "def calc_vif(X):\n",
        "\n",
        "# Calculating the VIF factor\n",
        "    vif = pd.DataFrame()\n",
        "    vif[\"variables\"] = X.columns\n",
        "    vif[\"VIF\"] = [variance_inflation_factor(X.values, i) for i in range(X.shape[1])]\n",
        "\n",
        "    return(vif)"
      ],
      "execution_count": 10,
      "outputs": [
        {
          "output_type": "stream",
          "text": [
            "/usr/local/lib/python3.7/dist-packages/statsmodels/tools/_testing.py:19: FutureWarning: pandas.util.testing is deprecated. Use the functions in the public API at pandas.testing instead.\n",
            "  import pandas.util.testing as tm\n"
          ],
          "name": "stderr"
        }
      ]
    },
    {
      "cell_type": "code",
      "metadata": {
        "id": "GesiqVF3bKBQ",
        "colab": {
          "base_uri": "https://localhost:8080/",
          "height": 297
        },
        "outputId": "5aa74015-4d84-45aa-cdf3-67ce66bf6e0d"
      },
      "source": [
        "# Getting the VIF factor for the variable\n",
        "calc_vif(taxi_df[[i for i in taxi_df.describe().columns if i not in ['Surge_Pricing_Type']]].dropna())"
      ],
      "execution_count": 11,
      "outputs": [
        {
          "output_type": "execute_result",
          "data": {
            "text/html": [
              "<div>\n",
              "<style scoped>\n",
              "    .dataframe tbody tr th:only-of-type {\n",
              "        vertical-align: middle;\n",
              "    }\n",
              "\n",
              "    .dataframe tbody tr th {\n",
              "        vertical-align: top;\n",
              "    }\n",
              "\n",
              "    .dataframe thead th {\n",
              "        text-align: right;\n",
              "    }\n",
              "</style>\n",
              "<table border=\"1\" class=\"dataframe\">\n",
              "  <thead>\n",
              "    <tr style=\"text-align: right;\">\n",
              "      <th></th>\n",
              "      <th>variables</th>\n",
              "      <th>VIF</th>\n",
              "    </tr>\n",
              "  </thead>\n",
              "  <tbody>\n",
              "    <tr>\n",
              "      <th>0</th>\n",
              "      <td>Trip_Distance</td>\n",
              "      <td>4.873858</td>\n",
              "    </tr>\n",
              "    <tr>\n",
              "      <th>1</th>\n",
              "      <td>Customer_Since_Months</td>\n",
              "      <td>4.024759</td>\n",
              "    </tr>\n",
              "    <tr>\n",
              "      <th>2</th>\n",
              "      <td>Life_Style_Index</td>\n",
              "      <td>145.365898</td>\n",
              "    </tr>\n",
              "    <tr>\n",
              "      <th>3</th>\n",
              "      <td>Customer_Rating</td>\n",
              "      <td>12.332220</td>\n",
              "    </tr>\n",
              "    <tr>\n",
              "      <th>4</th>\n",
              "      <td>Cancellation_Last_1Month</td>\n",
              "      <td>1.648301</td>\n",
              "    </tr>\n",
              "    <tr>\n",
              "      <th>5</th>\n",
              "      <td>Var1</td>\n",
              "      <td>9.124250</td>\n",
              "    </tr>\n",
              "    <tr>\n",
              "      <th>6</th>\n",
              "      <td>Var2</td>\n",
              "      <td>156.300582</td>\n",
              "    </tr>\n",
              "    <tr>\n",
              "      <th>7</th>\n",
              "      <td>Var3</td>\n",
              "      <td>89.595027</td>\n",
              "    </tr>\n",
              "  </tbody>\n",
              "</table>\n",
              "</div>"
            ],
            "text/plain": [
              "                  variables         VIF\n",
              "0             Trip_Distance    4.873858\n",
              "1     Customer_Since_Months    4.024759\n",
              "2          Life_Style_Index  145.365898\n",
              "3           Customer_Rating   12.332220\n",
              "4  Cancellation_Last_1Month    1.648301\n",
              "5                      Var1    9.124250\n",
              "6                      Var2  156.300582\n",
              "7                      Var3   89.595027"
            ]
          },
          "metadata": {
            "tags": []
          },
          "execution_count": 11
        }
      ]
    },
    {
      "cell_type": "code",
      "metadata": {
        "id": "sY9H77FLaT2C"
      },
      "source": [
        "# Dropping the Trip_Id column as it is not of much importance\n",
        "taxi_df.drop(columns=['Trip_ID'],inplace=True)"
      ],
      "execution_count": 12,
      "outputs": []
    },
    {
      "cell_type": "code",
      "metadata": {
        "id": "LHRWmdLs8XrC"
      },
      "source": [
        "taxi_copy.drop(columns=['Trip_ID'],inplace=True)"
      ],
      "execution_count": 13,
      "outputs": []
    },
    {
      "cell_type": "code",
      "metadata": {
        "id": "cpYsZ9AQanun",
        "colab": {
          "base_uri": "https://localhost:8080/"
        },
        "outputId": "1ce296f4-bb96-4fba-b5a1-7ce621dddd9e"
      },
      "source": [
        "taxi_df['Surge_Pricing_Type'].value_counts()"
      ],
      "execution_count": 14,
      "outputs": [
        {
          "output_type": "execute_result",
          "data": {
            "text/plain": [
              "2    56728\n",
              "3    47720\n",
              "1    27214\n",
              "Name: Surge_Pricing_Type, dtype: int64"
            ]
          },
          "metadata": {
            "tags": []
          },
          "execution_count": 14
        }
      ]
    },
    {
      "cell_type": "code",
      "metadata": {
        "id": "L_dgCQcCat9q",
        "colab": {
          "base_uri": "https://localhost:8080/",
          "height": 624
        },
        "outputId": "b94745f6-25ce-4970-bff0-063a330ec700"
      },
      "source": [
        "# Getting the correlation details\n",
        "fig, ax = plt.subplots(figsize=(10,8))\n",
        "sns.heatmap(taxi_df.corr(),annot=True)"
      ],
      "execution_count": 15,
      "outputs": [
        {
          "output_type": "execute_result",
          "data": {
            "text/plain": [
              "<matplotlib.axes._subplots.AxesSubplot at 0x7fbc6144bbd0>"
            ]
          },
          "metadata": {
            "tags": []
          },
          "execution_count": 15
        },
        {
          "output_type": "display_data",
          "data": {
            "image/png": "[encoded data removed]",
            "text/plain": [
              "<Figure size 720x576 with 2 Axes>"
            ]
          },
          "metadata": {
            "tags": [],
            "needs_background": "light"
          }
        }
      ]
    },
    {
      "cell_type": "markdown",
      "metadata": {
        "id": "EsDhiB1Y_bz-"
      },
      "source": [
        "# Performing EDA"
      ]
    },
    {
      "cell_type": "code",
      "metadata": {
        "colab": {
          "base_uri": "https://localhost:8080/",
          "height": 777
        },
        "id": "dbQ5i1aOEhCy",
        "outputId": "6e7eb382-38ca-41d0-c645-c5a5f5b77f41"
      },
      "source": [
        "taxi_df.hist(figsize=(15,10))"
      ],
      "execution_count": 16,
      "outputs": [
        {
          "output_type": "execute_result",
          "data": {
            "text/plain": [
              "array([[<matplotlib.axes._subplots.AxesSubplot object at 0x7fbc56d542d0>,\n",
              "        <matplotlib.axes._subplots.AxesSubplot object at 0x7fbc585a08d0>,\n",
              "        <matplotlib.axes._subplots.AxesSubplot object at 0x7fbc56d46350>],\n",
              "       [<matplotlib.axes._subplots.AxesSubplot object at 0x7fbc56cfd9d0>,\n",
              "        <matplotlib.axes._subplots.AxesSubplot object at 0x7fbc56c9e990>,\n",
              "        <matplotlib.axes._subplots.AxesSubplot object at 0x7fbc618c5850>],\n",
              "       [<matplotlib.axes._subplots.AxesSubplot object at 0x7fbc56d16b50>,\n",
              "        <matplotlib.axes._subplots.AxesSubplot object at 0x7fbc56c1e990>,\n",
              "        <matplotlib.axes._subplots.AxesSubplot object at 0x7fbc56c3c090>]],\n",
              "      dtype=object)"
            ]
          },
          "metadata": {
            "tags": []
          },
          "execution_count": 16
        },
        {
          "output_type": "display_data",
          "data": {
            "image/png": "[encoded data removed]",
            "text/plain": [
              "<Figure size 1080x720 with 9 Axes>"
            ]
          },
          "metadata": {
            "tags": [],
            "needs_background": "light"
          }
        }
      ]
    },
    {
      "cell_type": "code",
      "metadata": {
        "colab": {
          "base_uri": "https://localhost:8080/",
          "height": 351
        },
        "id": "yS-GLHzeL1sS",
        "outputId": "b12c0030-a937-45e2-becf-41b366161a44"
      },
      "source": [
        "sns.countplot(taxi_df['Surge_Pricing_Type'],hue=taxi_df['Gender'])"
      ],
      "execution_count": 17,
      "outputs": [
        {
          "output_type": "stream",
          "text": [
            "/usr/local/lib/python3.7/dist-packages/seaborn/_decorators.py:43: FutureWarning: Pass the following variable as a keyword arg: x. From version 0.12, the only valid positional argument will be `data`, and passing other arguments without an explicit keyword will result in an error or misinterpretation.\n",
            "  FutureWarning\n"
          ],
          "name": "stderr"
        },
        {
          "output_type": "execute_result",
          "data": {
            "text/plain": [
              "<matplotlib.axes._subplots.AxesSubplot at 0x7fbc568e6a90>"
            ]
          },
          "metadata": {
            "tags": []
          },
          "execution_count": 17
        },
        {
          "output_type": "display_data",
          "data": {
            "image/png": "[encoded data removed]",
            "text/plain": [
              "<Figure size 432x288 with 1 Axes>"
            ]
          },
          "metadata": {
            "tags": [],
            "needs_background": "light"
          }
        }
      ]
    },
    {
      "cell_type": "code",
      "metadata": {
        "colab": {
          "base_uri": "https://localhost:8080/",
          "height": 406
        },
        "id": "d6DrwGcVmGcb",
        "outputId": "40a11aa8-9d3d-4cb0-e943-a996be96e5ae"
      },
      "source": [
        "plt.figure(figsize=(12,5))\n",
        "plt.subplot(1,2,1)\n",
        "sns.countplot(taxi_df['Type_of_Cab'])"
      ],
      "execution_count": 18,
      "outputs": [
        {
          "output_type": "stream",
          "text": [
            "/usr/local/lib/python3.7/dist-packages/seaborn/_decorators.py:43: FutureWarning: Pass the following variable as a keyword arg: x. From version 0.12, the only valid positional argument will be `data`, and passing other arguments without an explicit keyword will result in an error or misinterpretation.\n",
            "  FutureWarning\n"
          ],
          "name": "stderr"
        },
        {
          "output_type": "execute_result",
          "data": {
            "text/plain": [
              "<matplotlib.axes._subplots.AxesSubplot at 0x7fbc568b2f90>"
            ]
          },
          "metadata": {
            "tags": []
          },
          "execution_count": 18
        },
        {
          "output_type": "display_data",
          "data": {
            "image/png": "[encoded data removed]",
            "text/plain": [
              "<Figure size 864x360 with 1 Axes>"
            ]
          },
          "metadata": {
            "tags": [],
            "needs_background": "light"
          }
        }
      ]
    },
    {
      "cell_type": "code",
      "metadata": {
        "colab": {
          "base_uri": "https://localhost:8080/",
          "height": 355
        },
        "id": "eT-oNFjYmRc6",
        "outputId": "0ed06644-be95-4e5a-f70b-4e45bd0d088b"
      },
      "source": [
        "plt.subplot(1,2,2)\n",
        "sns.countplot(taxi_df['Type_of_Cab'],hue=taxi_df['Surge_Pricing_Type'])"
      ],
      "execution_count": 19,
      "outputs": [
        {
          "output_type": "stream",
          "text": [
            "/usr/local/lib/python3.7/dist-packages/seaborn/_decorators.py:43: FutureWarning: Pass the following variable as a keyword arg: x. From version 0.12, the only valid positional argument will be `data`, and passing other arguments without an explicit keyword will result in an error or misinterpretation.\n",
            "  FutureWarning\n"
          ],
          "name": "stderr"
        },
        {
          "output_type": "execute_result",
          "data": {
            "text/plain": [
              "<matplotlib.axes._subplots.AxesSubplot at 0x7fbc568395d0>"
            ]
          },
          "metadata": {
            "tags": []
          },
          "execution_count": 19
        },
        {
          "output_type": "display_data",
          "data": {
            "image/png": "[encoded data removed]",
            "text/plain": [
              "<Figure size 432x288 with 1 Axes>"
            ]
          },
          "metadata": {
            "tags": [],
            "needs_background": "light"
          }
        }
      ]
    },
    {
      "cell_type": "code",
      "metadata": {
        "colab": {
          "base_uri": "https://localhost:8080/",
          "height": 569
        },
        "id": "8F5QA7dn9VxC",
        "outputId": "5d76d3d2-ccd0-446f-b384-82160f9b0169"
      },
      "source": [
        "plt.figure(figsize=(15,8))\n",
        "sns.countplot(taxi_df['Surge_Pricing_Type'],hue=taxi_df['Destination_Type'])"
      ],
      "execution_count": 20,
      "outputs": [
        {
          "output_type": "stream",
          "text": [
            "/usr/local/lib/python3.7/dist-packages/seaborn/_decorators.py:43: FutureWarning: Pass the following variable as a keyword arg: x. From version 0.12, the only valid positional argument will be `data`, and passing other arguments without an explicit keyword will result in an error or misinterpretation.\n",
            "  FutureWarning\n"
          ],
          "name": "stderr"
        },
        {
          "output_type": "execute_result",
          "data": {
            "text/plain": [
              "<matplotlib.axes._subplots.AxesSubplot at 0x7fbc56839090>"
            ]
          },
          "metadata": {
            "tags": []
          },
          "execution_count": 20
        },
        {
          "output_type": "display_data",
          "data": {
            "image/png": "[encoded data removed]",
            "text/plain": [
              "<Figure size 1080x576 with 1 Axes>"
            ]
          },
          "metadata": {
            "tags": [],
            "needs_background": "light"
          }
        }
      ]
    },
    {
      "cell_type": "code",
      "metadata": {
        "colab": {
          "base_uri": "https://localhost:8080/",
          "height": 351
        },
        "id": "sOI_Q02nm3Bx",
        "outputId": "31590d01-8cb4-4588-a609-42ca12d74899"
      },
      "source": [
        "sns.countplot(taxi_df['Destination_Type'])"
      ],
      "execution_count": 21,
      "outputs": [
        {
          "output_type": "stream",
          "text": [
            "/usr/local/lib/python3.7/dist-packages/seaborn/_decorators.py:43: FutureWarning: Pass the following variable as a keyword arg: x. From version 0.12, the only valid positional argument will be `data`, and passing other arguments without an explicit keyword will result in an error or misinterpretation.\n",
            "  FutureWarning\n"
          ],
          "name": "stderr"
        },
        {
          "output_type": "execute_result",
          "data": {
            "text/plain": [
              "<matplotlib.axes._subplots.AxesSubplot at 0x7fbc567532d0>"
            ]
          },
          "metadata": {
            "tags": []
          },
          "execution_count": 21
        },
        {
          "output_type": "display_data",
          "data": {
            "image/png": "[encoded data removed]",
            "text/plain": [
              "<Figure size 432x288 with 1 Axes>"
            ]
          },
          "metadata": {
            "tags": [],
            "needs_background": "light"
          }
        }
      ]
    },
    {
      "cell_type": "code",
      "metadata": {
        "colab": {
          "base_uri": "https://localhost:8080/"
        },
        "id": "z2cl7yHcZDKI",
        "outputId": "e9b8d5c4-a2a8-4d4f-81ba-082bbe6310e6"
      },
      "source": [
        "taxi_df.groupby(['Destination_Type'])['Surge_Pricing_Type'].value_counts()"
      ],
      "execution_count": 22,
      "outputs": [
        {
          "output_type": "execute_result",
          "data": {
            "text/plain": [
              "Destination_Type  Surge_Pricing_Type\n",
              "A                 2                     33913\n",
              "                  3                     29932\n",
              "                  1                     13752\n",
              "B                 2                     13681\n",
              "                  1                      8477\n",
              "                  3                      7397\n",
              "C                 2                      3093\n",
              "                  3                      2613\n",
              "                  1                      1778\n",
              "D                 3                      3468\n",
              "                  2                      2260\n",
              "                  1                       860\n",
              "E                 2                      1101\n",
              "                  1                       820\n",
              "                  3                       796\n",
              "F                 3                      1061\n",
              "                  2                       626\n",
              "                  1                       263\n",
              "G                 2                       597\n",
              "                  1                       529\n",
              "                  3                       363\n",
              "H                 3                       614\n",
              "                  2                       468\n",
              "                  1                       178\n",
              "I                 3                       466\n",
              "                  2                       248\n",
              "                  1                        99\n",
              "J                 3                       347\n",
              "                  2                       235\n",
              "                  1                       113\n",
              "K                 3                       290\n",
              "                  2                       226\n",
              "                  1                       164\n",
              "L                 3                       317\n",
              "                  2                       195\n",
              "                  1                       131\n",
              "M                 3                        48\n",
              "                  2                        26\n",
              "                  1                        19\n",
              "N                 2                        59\n",
              "                  1                        31\n",
              "                  3                         8\n",
              "Name: Surge_Pricing_Type, dtype: int64"
            ]
          },
          "metadata": {
            "tags": []
          },
          "execution_count": 22
        }
      ]
    },
    {
      "cell_type": "code",
      "metadata": {
        "colab": {
          "base_uri": "https://localhost:8080/",
          "height": 351
        },
        "id": "9lW1GGviWYAO",
        "outputId": "5a4959c6-98b9-4a35-c19d-e8270ad878b2"
      },
      "source": [
        "sns.scatterplot(taxi_df['Surge_Pricing_Type'],taxi_df['Cancellation_Last_1Month'])"
      ],
      "execution_count": 23,
      "outputs": [
        {
          "output_type": "stream",
          "text": [
            "/usr/local/lib/python3.7/dist-packages/seaborn/_decorators.py:43: FutureWarning: Pass the following variables as keyword args: x, y. From version 0.12, the only valid positional argument will be `data`, and passing other arguments without an explicit keyword will result in an error or misinterpretation.\n",
            "  FutureWarning\n"
          ],
          "name": "stderr"
        },
        {
          "output_type": "execute_result",
          "data": {
            "text/plain": [
              "<matplotlib.axes._subplots.AxesSubplot at 0x7fbc56787ad0>"
            ]
          },
          "metadata": {
            "tags": []
          },
          "execution_count": 23
        },
        {
          "output_type": "display_data",
          "data": {
            "image/png": "[encoded data removed]",
            "text/plain": [
              "<Figure size 432x288 with 1 Axes>"
            ]
          },
          "metadata": {
            "tags": [],
            "needs_background": "light"
          }
        }
      ]
    },
    {
      "cell_type": "code",
      "metadata": {
        "colab": {
          "base_uri": "https://localhost:8080/",
          "height": 351
        },
        "id": "i9NU2oy6Wx6D",
        "outputId": "f9c5d751-7c01-4bd2-a860-3a9c555c0424"
      },
      "source": [
        "sns.boxplot(taxi_df['Surge_Pricing_Type'],taxi_df['Customer_Rating'])"
      ],
      "execution_count": 24,
      "outputs": [
        {
          "output_type": "stream",
          "text": [
            "/usr/local/lib/python3.7/dist-packages/seaborn/_decorators.py:43: FutureWarning: Pass the following variables as keyword args: x, y. From version 0.12, the only valid positional argument will be `data`, and passing other arguments without an explicit keyword will result in an error or misinterpretation.\n",
            "  FutureWarning\n"
          ],
          "name": "stderr"
        },
        {
          "output_type": "execute_result",
          "data": {
            "text/plain": [
              "<matplotlib.axes._subplots.AxesSubplot at 0x7fbc5652f7d0>"
            ]
          },
          "metadata": {
            "tags": []
          },
          "execution_count": 24
        },
        {
          "output_type": "display_data",
          "data": {
            "image/png": "[encoded data removed]",
            "text/plain": [
              "<Figure size 432x288 with 1 Axes>"
            ]
          },
          "metadata": {
            "tags": [],
            "needs_background": "light"
          }
        }
      ]
    },
    {
      "cell_type": "code",
      "metadata": {
        "colab": {
          "base_uri": "https://localhost:8080/",
          "height": 351
        },
        "id": "DXmi_dugX8jA",
        "outputId": "5a4c3913-f5c6-45fc-dfd6-696e0b02f8fa"
      },
      "source": [
        "sns.boxplot(taxi_df['Surge_Pricing_Type'],taxi_df['Var2'])"
      ],
      "execution_count": 25,
      "outputs": [
        {
          "output_type": "stream",
          "text": [
            "/usr/local/lib/python3.7/dist-packages/seaborn/_decorators.py:43: FutureWarning: Pass the following variables as keyword args: x, y. From version 0.12, the only valid positional argument will be `data`, and passing other arguments without an explicit keyword will result in an error or misinterpretation.\n",
            "  FutureWarning\n"
          ],
          "name": "stderr"
        },
        {
          "output_type": "execute_result",
          "data": {
            "text/plain": [
              "<matplotlib.axes._subplots.AxesSubplot at 0x7fbc564b45d0>"
            ]
          },
          "metadata": {
            "tags": []
          },
          "execution_count": 25
        },
        {
          "output_type": "display_data",
          "data": {
            "image/png": "[encoded data removed]",
            "text/plain": [
              "<Figure size 432x288 with 1 Axes>"
            ]
          },
          "metadata": {
            "tags": [],
            "needs_background": "light"
          }
        }
      ]
    },
    {
      "cell_type": "code",
      "metadata": {
        "colab": {
          "base_uri": "https://localhost:8080/",
          "height": 351
        },
        "id": "4wnXg7v9YFp2",
        "outputId": "cc353952-e8db-4d99-fbb7-65cceff7ca24"
      },
      "source": [
        "sns.boxplot(taxi_df['Surge_Pricing_Type'],taxi_df['Var3'])"
      ],
      "execution_count": 26,
      "outputs": [
        {
          "output_type": "stream",
          "text": [
            "/usr/local/lib/python3.7/dist-packages/seaborn/_decorators.py:43: FutureWarning: Pass the following variables as keyword args: x, y. From version 0.12, the only valid positional argument will be `data`, and passing other arguments without an explicit keyword will result in an error or misinterpretation.\n",
            "  FutureWarning\n"
          ],
          "name": "stderr"
        },
        {
          "output_type": "execute_result",
          "data": {
            "text/plain": [
              "<matplotlib.axes._subplots.AxesSubplot at 0x7fbc56a00bd0>"
            ]
          },
          "metadata": {
            "tags": []
          },
          "execution_count": 26
        },
        {
          "output_type": "display_data",
          "data": {
            "image/png": "[encoded data removed]",
            "text/plain": [
              "<Figure size 432x288 with 1 Axes>"
            ]
          },
          "metadata": {
            "tags": [],
            "needs_background": "light"
          }
        }
      ]
    },
    {
      "cell_type": "markdown",
      "metadata": {
        "id": "mPalQhWELcTH"
      },
      "source": [
        "Data Cleaning and Handling Null Values\n"
      ]
    },
    {
      "cell_type": "code",
      "metadata": {
        "colab": {
          "base_uri": "https://localhost:8080/"
        },
        "id": "ZaJ1urnvfjPh",
        "outputId": "0077fae2-d919-47ac-a5c9-1f793b47fb31"
      },
      "source": [
        "taxi_df.isna().sum()"
      ],
      "execution_count": 27,
      "outputs": [
        {
          "output_type": "execute_result",
          "data": {
            "text/plain": [
              "Trip_Distance                      0\n",
              "Type_of_Cab                    20210\n",
              "Customer_Since_Months           5920\n",
              "Life_Style_Index               20193\n",
              "Confidence_Life_Style_Index    20193\n",
              "Destination_Type                   0\n",
              "Customer_Rating                    0\n",
              "Cancellation_Last_1Month           0\n",
              "Var1                           71030\n",
              "Var2                               0\n",
              "Var3                               0\n",
              "Gender                             0\n",
              "Surge_Pricing_Type                 0\n",
              "dtype: int64"
            ]
          },
          "metadata": {
            "tags": []
          },
          "execution_count": 27
        }
      ]
    },
    {
      "cell_type": "code",
      "metadata": {
        "colab": {
          "base_uri": "https://localhost:8080/"
        },
        "id": "cVv7x91BB9s1",
        "outputId": "40b5605d-0e20-407d-f5ff-4fe420e7ce34"
      },
      "source": [
        "taxi_copy.isna().sum()"
      ],
      "execution_count": 28,
      "outputs": [
        {
          "output_type": "execute_result",
          "data": {
            "text/plain": [
              "Trip_Distance                      0\n",
              "Type_of_Cab                    20210\n",
              "Customer_Since_Months           5920\n",
              "Life_Style_Index               20193\n",
              "Confidence_Life_Style_Index    20193\n",
              "Destination_Type                   0\n",
              "Customer_Rating                    0\n",
              "Cancellation_Last_1Month           0\n",
              "Var1                           71030\n",
              "Var2                               0\n",
              "Var3                               0\n",
              "Gender                             0\n",
              "Surge_Pricing_Type                 0\n",
              "dtype: int64"
            ]
          },
          "metadata": {
            "tags": []
          },
          "execution_count": 28
        }
      ]
    },
    {
      "cell_type": "code",
      "metadata": {
        "id": "JB4pZ0DotkPq"
      },
      "source": [
        "del taxi_df['Var1']"
      ],
      "execution_count": 29,
      "outputs": []
    },
    {
      "cell_type": "code",
      "metadata": {
        "id": "eu40SDak86cZ"
      },
      "source": [
        "del taxi_copy['Var1']"
      ],
      "execution_count": 30,
      "outputs": []
    },
    {
      "cell_type": "code",
      "metadata": {
        "id": "HAeEnl3Lg1MZ"
      },
      "source": [
        "# Imputation of all the null values\n",
        "#taxi_df['Type_of_Cab']=taxi_df['Type_of_Cab'].\n",
        "#taxi_df['Customer_Since_Months']=taxi_df['Customer_Since_Months'].fillna(taxi_df['Customer_Since_Months'].median())\n",
        "#taxi_df['Life_Style_Index']=taxi_df['Life_Style_Index'].fillna(taxi_df['Life_Style_Index'].median())\n",
        "#taxi_df['Confidence_Life_Style_Index']=taxi_df['Confidence_Life_Style_Index'].fillna(taxi_df['Confidence_Life_Style_Index'].mode().iloc[0])\n",
        "#taxi_df['Var1']=taxi_df['Var1'].fillna(taxi_df['Var1'].median())"
      ],
      "execution_count": 31,
      "outputs": []
    },
    {
      "cell_type": "code",
      "metadata": {
        "id": "0FbZjOIrCj9n"
      },
      "source": [
        "taxi_df.dropna(inplace=True)"
      ],
      "execution_count": 32,
      "outputs": []
    },
    {
      "cell_type": "code",
      "metadata": {
        "id": "OYZQjj2CA731"
      },
      "source": [
        "taxi_copy.dropna(inplace=True)"
      ],
      "execution_count": 33,
      "outputs": []
    },
    {
      "cell_type": "code",
      "metadata": {
        "colab": {
          "base_uri": "https://localhost:8080/"
        },
        "id": "9sBKKxiaAqp8",
        "outputId": "01fe2c76-deb3-4234-8c40-20b92f0395aa"
      },
      "source": [
        "taxi_copy.isna().any()"
      ],
      "execution_count": 34,
      "outputs": [
        {
          "output_type": "execute_result",
          "data": {
            "text/plain": [
              "Trip_Distance                  False\n",
              "Type_of_Cab                    False\n",
              "Customer_Since_Months          False\n",
              "Life_Style_Index               False\n",
              "Confidence_Life_Style_Index    False\n",
              "Destination_Type               False\n",
              "Customer_Rating                False\n",
              "Cancellation_Last_1Month       False\n",
              "Var2                           False\n",
              "Var3                           False\n",
              "Gender                         False\n",
              "Surge_Pricing_Type             False\n",
              "dtype: bool"
            ]
          },
          "metadata": {
            "tags": []
          },
          "execution_count": 34
        }
      ]
    },
    {
      "cell_type": "code",
      "metadata": {
        "colab": {
          "base_uri": "https://localhost:8080/"
        },
        "id": "sMcQr34Qi8M1",
        "outputId": "01835044-d926-4331-f76d-b895a9840ed6"
      },
      "source": [
        "taxi_df.isna().any()"
      ],
      "execution_count": 35,
      "outputs": [
        {
          "output_type": "execute_result",
          "data": {
            "text/plain": [
              "Trip_Distance                  False\n",
              "Type_of_Cab                    False\n",
              "Customer_Since_Months          False\n",
              "Life_Style_Index               False\n",
              "Confidence_Life_Style_Index    False\n",
              "Destination_Type               False\n",
              "Customer_Rating                False\n",
              "Cancellation_Last_1Month       False\n",
              "Var2                           False\n",
              "Var3                           False\n",
              "Gender                         False\n",
              "Surge_Pricing_Type             False\n",
              "dtype: bool"
            ]
          },
          "metadata": {
            "tags": []
          },
          "execution_count": 35
        }
      ]
    },
    {
      "cell_type": "code",
      "metadata": {
        "id": "SmNSAwT5jDY9"
      },
      "source": [
        "# Using label encoder to change the categorical data into numerical data\n",
        "from sklearn.preprocessing import LabelEncoder\n",
        "encoder=LabelEncoder()"
      ],
      "execution_count": 36,
      "outputs": []
    },
    {
      "cell_type": "markdown",
      "metadata": {
        "id": "JMP19XW12sDO"
      },
      "source": [
        "Fitting the label encoder technique to change the dtypes of the feature for the original dataset"
      ]
    },
    {
      "cell_type": "code",
      "metadata": {
        "id": "QxHp-fUAjN0m"
      },
      "source": [
        "taxi_df['Type_of_Cab']=encoder.fit_transform(taxi_df['Type_of_Cab'])\n",
        "taxi_df['Confidence_Life_Style_Index']=encoder.fit_transform(taxi_df['Confidence_Life_Style_Index'])\n",
        "taxi_df['Destination_Type']=encoder.fit_transform(taxi_df['Destination_Type'])\n",
        "taxi_df['Gender']=encoder.fit_transform(taxi_df['Gender'])"
      ],
      "execution_count": 37,
      "outputs": []
    },
    {
      "cell_type": "markdown",
      "metadata": {
        "id": "VpiCHQo529Fc"
      },
      "source": [
        "Fitting the label encoder technique to change the dtypes of the feature for the copied dataset"
      ]
    },
    {
      "cell_type": "code",
      "metadata": {
        "id": "z3BV29Fu-fvv"
      },
      "source": [
        "taxi_copy['Type_of_Cab']=encoder.fit_transform(taxi_copy['Type_of_Cab'])\n",
        "taxi_copy['Confidence_Life_Style_Index']=encoder.fit_transform(taxi_copy['Confidence_Life_Style_Index'])\n",
        "taxi_copy['Destination_Type']=encoder.fit_transform(taxi_copy['Destination_Type'])\n",
        "taxi_copy['Gender']=encoder.fit_transform(taxi_copy['Gender'])"
      ],
      "execution_count": 38,
      "outputs": []
    },
    {
      "cell_type": "markdown",
      "metadata": {
        "id": "6lh65E_j3Dq4"
      },
      "source": [
        "Dropping the null values from copy data set"
      ]
    },
    {
      "cell_type": "code",
      "metadata": {
        "id": "WEtkJkxL9utY"
      },
      "source": [
        "taxi_copy.dropna(inplace = True)"
      ],
      "execution_count": 39,
      "outputs": []
    },
    {
      "cell_type": "markdown",
      "metadata": {
        "id": "eSPFf4Hw3Kyr"
      },
      "source": [
        "Verifying to see that no null value is present"
      ]
    },
    {
      "cell_type": "code",
      "metadata": {
        "colab": {
          "base_uri": "https://localhost:8080/"
        },
        "id": "oqE7M3J993wj",
        "outputId": "90769d78-0ee6-45ec-e5f8-b4e8b9e72c75"
      },
      "source": [
        "taxi_copy.isna().sum()"
      ],
      "execution_count": 40,
      "outputs": [
        {
          "output_type": "execute_result",
          "data": {
            "text/plain": [
              "Trip_Distance                  0\n",
              "Type_of_Cab                    0\n",
              "Customer_Since_Months          0\n",
              "Life_Style_Index               0\n",
              "Confidence_Life_Style_Index    0\n",
              "Destination_Type               0\n",
              "Customer_Rating                0\n",
              "Cancellation_Last_1Month       0\n",
              "Var2                           0\n",
              "Var3                           0\n",
              "Gender                         0\n",
              "Surge_Pricing_Type             0\n",
              "dtype: int64"
            ]
          },
          "metadata": {
            "tags": []
          },
          "execution_count": 40
        }
      ]
    },
    {
      "cell_type": "code",
      "metadata": {
        "colab": {
          "base_uri": "https://localhost:8080/"
        },
        "id": "frlC1Exz5r6V",
        "outputId": "91485c07-3d0b-4bd6-f81e-708a4aac02e3"
      },
      "source": [
        "taxi_df.isna().sum()"
      ],
      "execution_count": 41,
      "outputs": [
        {
          "output_type": "execute_result",
          "data": {
            "text/plain": [
              "Trip_Distance                  0\n",
              "Type_of_Cab                    0\n",
              "Customer_Since_Months          0\n",
              "Life_Style_Index               0\n",
              "Confidence_Life_Style_Index    0\n",
              "Destination_Type               0\n",
              "Customer_Rating                0\n",
              "Cancellation_Last_1Month       0\n",
              "Var2                           0\n",
              "Var3                           0\n",
              "Gender                         0\n",
              "Surge_Pricing_Type             0\n",
              "dtype: int64"
            ]
          },
          "metadata": {
            "tags": []
          },
          "execution_count": 41
        }
      ]
    },
    {
      "cell_type": "code",
      "metadata": {
        "colab": {
          "base_uri": "https://localhost:8080/"
        },
        "id": "5AWz_3D1TM5H",
        "outputId": "1af6b9c2-303f-4e23-9638-2ccf686ab283"
      },
      "source": [
        "taxi_df.duplicated().sum()"
      ],
      "execution_count": 42,
      "outputs": [
        {
          "output_type": "execute_result",
          "data": {
            "text/plain": [
              "0"
            ]
          },
          "metadata": {
            "tags": []
          },
          "execution_count": 42
        }
      ]
    },
    {
      "cell_type": "markdown",
      "metadata": {
        "id": "X-8tpYT13RtN"
      },
      "source": [
        "Checking the Dtypes of original as well copy data set"
      ]
    },
    {
      "cell_type": "code",
      "metadata": {
        "colab": {
          "base_uri": "https://localhost:8080/"
        },
        "id": "5HOp7r1ajZU4",
        "outputId": "8ed1dad6-3cba-4c35-f73f-be92868ff3ea"
      },
      "source": [
        "taxi_df.dtypes"
      ],
      "execution_count": 43,
      "outputs": [
        {
          "output_type": "execute_result",
          "data": {
            "text/plain": [
              "Trip_Distance                  float64\n",
              "Type_of_Cab                      int64\n",
              "Customer_Since_Months          float64\n",
              "Life_Style_Index               float64\n",
              "Confidence_Life_Style_Index      int64\n",
              "Destination_Type                 int64\n",
              "Customer_Rating                float64\n",
              "Cancellation_Last_1Month         int64\n",
              "Var2                             int64\n",
              "Var3                             int64\n",
              "Gender                           int64\n",
              "Surge_Pricing_Type               int64\n",
              "dtype: object"
            ]
          },
          "metadata": {
            "tags": []
          },
          "execution_count": 43
        }
      ]
    },
    {
      "cell_type": "code",
      "metadata": {
        "colab": {
          "base_uri": "https://localhost:8080/"
        },
        "id": "hdk_kAvL-teo",
        "outputId": "f1fc9a6b-2e2e-40e9-b434-7b72323ea1f8"
      },
      "source": [
        "taxi_copy.dtypes"
      ],
      "execution_count": 44,
      "outputs": [
        {
          "output_type": "execute_result",
          "data": {
            "text/plain": [
              "Trip_Distance                  float64\n",
              "Type_of_Cab                      int64\n",
              "Customer_Since_Months          float64\n",
              "Life_Style_Index               float64\n",
              "Confidence_Life_Style_Index      int64\n",
              "Destination_Type                 int64\n",
              "Customer_Rating                float64\n",
              "Cancellation_Last_1Month         int64\n",
              "Var2                             int64\n",
              "Var3                             int64\n",
              "Gender                           int64\n",
              "Surge_Pricing_Type               int64\n",
              "dtype: object"
            ]
          },
          "metadata": {
            "tags": []
          },
          "execution_count": 44
        }
      ]
    },
    {
      "cell_type": "markdown",
      "metadata": {
        "id": "Gea8UpXtkn0h"
      },
      "source": [
        "**Visualisation**(After treating null values)"
      ]
    },
    {
      "cell_type": "code",
      "metadata": {
        "colab": {
          "base_uri": "https://localhost:8080/",
          "height": 297
        },
        "id": "Fs3peIiRknAQ",
        "outputId": "92a4dd43-ee57-4128-ba82-6cf157c96027"
      },
      "source": [
        "sns.countplot(x=taxi_df['Surge_Pricing_Type'])"
      ],
      "execution_count": 45,
      "outputs": [
        {
          "output_type": "execute_result",
          "data": {
            "text/plain": [
              "<matplotlib.axes._subplots.AxesSubplot at 0x7fbc553047d0>"
            ]
          },
          "metadata": {
            "tags": []
          },
          "execution_count": 45
        },
        {
          "output_type": "display_data",
          "data": {
            "image/png": "[encoded data removed]",
            "text/plain": [
              "<Figure size 432x288 with 1 Axes>"
            ]
          },
          "metadata": {
            "tags": [],
            "needs_background": "light"
          }
        }
      ]
    },
    {
      "cell_type": "code",
      "metadata": {
        "colab": {
          "base_uri": "https://localhost:8080/",
          "height": 297
        },
        "id": "efVtbps8k4LG",
        "outputId": "017ca0f3-6431-4845-f3df-f673defb243d"
      },
      "source": [
        "sns.countplot(x=taxi_df['Surge_Pricing_Type'],hue=(taxi_df['Gender']))"
      ],
      "execution_count": 46,
      "outputs": [
        {
          "output_type": "execute_result",
          "data": {
            "text/plain": [
              "<matplotlib.axes._subplots.AxesSubplot at 0x7fbc5500b9d0>"
            ]
          },
          "metadata": {
            "tags": []
          },
          "execution_count": 46
        },
        {
          "output_type": "display_data",
          "data": {
            "image/png": "[encoded data removed]",
            "text/plain": [
              "<Figure size 432x288 with 1 Axes>"
            ]
          },
          "metadata": {
            "tags": [],
            "needs_background": "light"
          }
        }
      ]
    },
    {
      "cell_type": "code",
      "metadata": {
        "colab": {
          "base_uri": "https://localhost:8080/",
          "height": 297
        },
        "id": "2xqzRootk9Rj",
        "outputId": "69182e31-04b8-40d3-9daf-2c4d1e35591d"
      },
      "source": [
        "sns.countplot(x=taxi_df['Destination_Type'])"
      ],
      "execution_count": 47,
      "outputs": [
        {
          "output_type": "execute_result",
          "data": {
            "text/plain": [
              "<matplotlib.axes._subplots.AxesSubplot at 0x7fbc54fab610>"
            ]
          },
          "metadata": {
            "tags": []
          },
          "execution_count": 47
        },
        {
          "output_type": "display_data",
          "data": {
            "image/png": "[encoded data removed]",
            "text/plain": [
              "<Figure size 432x288 with 1 Axes>"
            ]
          },
          "metadata": {
            "tags": [],
            "needs_background": "light"
          }
        }
      ]
    },
    {
      "cell_type": "code",
      "metadata": {
        "colab": {
          "base_uri": "https://localhost:8080/",
          "height": 296
        },
        "id": "HXWHSKZFlELy",
        "outputId": "fac022e9-381a-441f-ab40-dbe86a360ab6"
      },
      "source": [
        "sns.countplot(x=taxi_df['Gender']) # 1 for male; 0 for Female"
      ],
      "execution_count": 48,
      "outputs": [
        {
          "output_type": "execute_result",
          "data": {
            "text/plain": [
              "<matplotlib.axes._subplots.AxesSubplot at 0x7fbc54f3ef90>"
            ]
          },
          "metadata": {
            "tags": []
          },
          "execution_count": 48
        },
        {
          "output_type": "display_data",
          "data": {
            "image/png": "[encoded data removed]",
            "text/plain": [
              "<Figure size 432x288 with 1 Axes>"
            ]
          },
          "metadata": {
            "tags": [],
            "needs_background": "light"
          }
        }
      ]
    },
    {
      "cell_type": "code",
      "metadata": {
        "colab": {
          "base_uri": "https://localhost:8080/",
          "height": 297
        },
        "id": "gaq20e_olLBz",
        "outputId": "deb67100-9d17-47fd-d91d-4f57c8e49e45"
      },
      "source": [
        "sns.boxplot(x=taxi_df['Life_Style_Index'])"
      ],
      "execution_count": 49,
      "outputs": [
        {
          "output_type": "execute_result",
          "data": {
            "text/plain": [
              "<matplotlib.axes._subplots.AxesSubplot at 0x7fbc54ead6d0>"
            ]
          },
          "metadata": {
            "tags": []
          },
          "execution_count": 49
        },
        {
          "output_type": "display_data",
          "data": {
            "image/png": "[encoded data removed]",
            "text/plain": [
              "<Figure size 432x288 with 1 Axes>"
            ]
          },
          "metadata": {
            "tags": [],
            "needs_background": "light"
          }
        }
      ]
    },
    {
      "cell_type": "code",
      "metadata": {
        "colab": {
          "base_uri": "https://localhost:8080/",
          "height": 297
        },
        "id": "rY88h1X3lU0H",
        "outputId": "f3222443-fe8b-4bf8-ffe0-1f05ec36538a"
      },
      "source": [
        "sns.boxplot(x=taxi_df['Surge_Pricing_Type'])"
      ],
      "execution_count": 50,
      "outputs": [
        {
          "output_type": "execute_result",
          "data": {
            "text/plain": [
              "<matplotlib.axes._subplots.AxesSubplot at 0x7fbc54e1b1d0>"
            ]
          },
          "metadata": {
            "tags": []
          },
          "execution_count": 50
        },
        {
          "output_type": "display_data",
          "data": {
            "image/png": "[encoded data removed]",
            "text/plain": [
              "<Figure size 432x288 with 1 Axes>"
            ]
          },
          "metadata": {
            "tags": [],
            "needs_background": "light"
          }
        }
      ]
    },
    {
      "cell_type": "code",
      "metadata": {
        "colab": {
          "base_uri": "https://localhost:8080/",
          "height": 1000
        },
        "id": "wKjfWFcFmQ2q",
        "outputId": "46b0a461-c426-4fa9-fe74-858328b8ea37"
      },
      "source": [
        "plt.figure(figsize=(20,20))\n",
        "sns.heatmap(taxi_df.corr(),annot=True)"
      ],
      "execution_count": 51,
      "outputs": [
        {
          "output_type": "execute_result",
          "data": {
            "text/plain": [
              "<matplotlib.axes._subplots.AxesSubplot at 0x7fbc55023c10>"
            ]
          },
          "metadata": {
            "tags": []
          },
          "execution_count": 51
        },
        {
          "output_type": "display_data",
          "data": {
            "image/png": "[encoded data removed]",
            "text/plain": [
              "<Figure size 1440x1440 with 2 Axes>"
            ]
          },
          "metadata": {
            "tags": [],
            "needs_background": "light"
          }
        }
      ]
    },
    {
      "cell_type": "markdown",
      "metadata": {
        "id": "Me5jlDEFpVNs"
      },
      "source": [
        "**Feature Selection**\n"
      ]
    },
    {
      "cell_type": "markdown",
      "metadata": {
        "id": "vuFtCUtn3nWo"
      },
      "source": [
        "Creating the predictor and Target variables."
      ]
    },
    {
      "cell_type": "code",
      "metadata": {
        "colab": {
          "base_uri": "https://localhost:8080/"
        },
        "id": "sT4bRZTYpgpQ",
        "outputId": "3f7086be-cac3-4b91-c396-6d5ae66668d1"
      },
      "source": [
        "x=taxi_copy.iloc[:,taxi_copy.columns !='Surge_Pricing_Type']\n",
        "y=taxi_copy['Surge_Pricing_Type']\n",
        "x.shape"
      ],
      "execution_count": 52,
      "outputs": [
        {
          "output_type": "execute_result",
          "data": {
            "text/plain": [
              "(90052, 11)"
            ]
          },
          "metadata": {
            "tags": []
          },
          "execution_count": 52
        }
      ]
    },
    {
      "cell_type": "code",
      "metadata": {
        "colab": {
          "base_uri": "https://localhost:8080/"
        },
        "id": "mw1arUBD6gU7",
        "outputId": "c24070eb-c352-4565-c36e-b726f428daf7"
      },
      "source": [
        "taxi_copy.dtypes"
      ],
      "execution_count": 53,
      "outputs": [
        {
          "output_type": "execute_result",
          "data": {
            "text/plain": [
              "Trip_Distance                  float64\n",
              "Type_of_Cab                      int64\n",
              "Customer_Since_Months          float64\n",
              "Life_Style_Index               float64\n",
              "Confidence_Life_Style_Index      int64\n",
              "Destination_Type                 int64\n",
              "Customer_Rating                float64\n",
              "Cancellation_Last_1Month         int64\n",
              "Var2                             int64\n",
              "Var3                             int64\n",
              "Gender                           int64\n",
              "Surge_Pricing_Type               int64\n",
              "dtype: object"
            ]
          },
          "metadata": {
            "tags": []
          },
          "execution_count": 53
        }
      ]
    },
    {
      "cell_type": "markdown",
      "metadata": {
        "id": "DT2LOysx3xCa"
      },
      "source": [
        "Imputing Extra tree classifier to see the importance of each features"
      ]
    },
    {
      "cell_type": "code",
      "metadata": {
        "id": "hwLlI73Hrnbe"
      },
      "source": [
        "from sklearn.ensemble import ExtraTreesClassifier\n",
        "ET=ExtraTreesClassifier()"
      ],
      "execution_count": 54,
      "outputs": []
    },
    {
      "cell_type": "markdown",
      "metadata": {
        "id": "O6tqlaBq4CKL"
      },
      "source": [
        "Getting the scores for every feature\n",
        "We can infer that Type_Of_Cab is the most significant feature"
      ]
    },
    {
      "cell_type": "code",
      "metadata": {
        "colab": {
          "base_uri": "https://localhost:8080/"
        },
        "id": "1Lfyf0issBb1",
        "outputId": "17f2f122-c749-4e26-c6fa-8940037cf1e1"
      },
      "source": [
        "ET.fit(x,y)\n",
        "imp_features=pd.Series(ET.feature_importances_,index=x.columns).sort_values(ascending=False)\n",
        "imp_features\n",
        "#The features with the lowest scores can be removed."
      ],
      "execution_count": 55,
      "outputs": [
        {
          "output_type": "execute_result",
          "data": {
            "text/plain": [
              "Type_of_Cab                    0.327432\n",
              "Trip_Distance                  0.107219\n",
              "Life_Style_Index               0.101098\n",
              "Customer_Rating                0.101075\n",
              "Var3                           0.091770\n",
              "Var2                           0.084332\n",
              "Customer_Since_Months          0.061679\n",
              "Destination_Type               0.044425\n",
              "Cancellation_Last_1Month       0.036437\n",
              "Confidence_Life_Style_Index    0.026562\n",
              "Gender                         0.017971\n",
              "dtype: float64"
            ]
          },
          "metadata": {
            "tags": []
          },
          "execution_count": 55
        }
      ]
    },
    {
      "cell_type": "markdown",
      "metadata": {
        "id": "v0mtqWlD4Qd0"
      },
      "source": [
        "Imputing Mutual Info Classification to see the importance via graph\n",
        "Even here we cab see that Type_of_cab is the most significant feature which concludes that it is the best feature with utmost important."
      ]
    },
    {
      "cell_type": "code",
      "metadata": {
        "id": "AyrYUajPwk_m",
        "colab": {
          "base_uri": "https://localhost:8080/",
          "height": 282
        },
        "outputId": "c09eeb58-a432-49ee-8ae7-900ed3b3655f"
      },
      "source": [
        "from sklearn.feature_selection import mutual_info_classif\n",
        "%matplotlib inline\n",
        "\n",
        "data = mutual_info_classif(x,y)\n",
        "data1 = pd.Series(data, taxi_df.columns[0:len(taxi_df.columns)-1])\n",
        "data1.plot(kind= 'barh', color = 'teal')\n",
        "plt.show"
      ],
      "execution_count": 56,
      "outputs": [
        {
          "output_type": "execute_result",
          "data": {
            "text/plain": [
              "<function matplotlib.pyplot.show>"
            ]
          },
          "metadata": {
            "tags": []
          },
          "execution_count": 56
        },
        {
          "output_type": "display_data",
          "data": {
            "image/png": "[encoded data removed]",
            "text/plain": [
              "<Figure size 432x288 with 1 Axes>"
            ]
          },
          "metadata": {
            "tags": [],
            "needs_background": "light"
          }
        }
      ]
    },
    {
      "cell_type": "markdown",
      "metadata": {
        "id": "QY4uMCSg4keE"
      },
      "source": [
        "Imputing Different Scores"
      ]
    },
    {
      "cell_type": "code",
      "metadata": {
        "id": "RWFrT8gL7yXv"
      },
      "source": [
        "from sklearn.metrics import accuracy_score,recall_score,precision_score,confusion_matrix"
      ],
      "execution_count": 57,
      "outputs": []
    },
    {
      "cell_type": "code",
      "metadata": {
        "id": "k5GrFSzkMtUQ",
        "colab": {
          "base_uri": "https://localhost:8080/"
        },
        "outputId": "77521869-8153-4b32-c698-e4b8e002ea3f"
      },
      "source": [
        "y.shape"
      ],
      "execution_count": 58,
      "outputs": [
        {
          "output_type": "execute_result",
          "data": {
            "text/plain": [
              "(90052,)"
            ]
          },
          "metadata": {
            "tags": []
          },
          "execution_count": 58
        }
      ]
    },
    {
      "cell_type": "markdown",
      "metadata": {
        "id": "89Ee52RW4w-B"
      },
      "source": [
        "Applying train_test_split\n",
        "I have performed it multiple times:\n",
        "One without feature selection.\n",
        "Another with feature selection."
      ]
    },
    {
      "cell_type": "code",
      "metadata": {
        "id": "d-IS2op_7h4y",
        "colab": {
          "base_uri": "https://localhost:8080/"
        },
        "outputId": "39f12edd-6fce-48d5-8f7d-d0f9764cf69c"
      },
      "source": [
        "from sklearn.model_selection import train_test_split\n",
        "x_train,x_test,y_train,y_test=train_test_split(x,y,test_size=0.3)\n",
        "y_train.shape"
      ],
      "execution_count": 59,
      "outputs": [
        {
          "output_type": "execute_result",
          "data": {
            "text/plain": [
              "(63036,)"
            ]
          },
          "metadata": {
            "tags": []
          },
          "execution_count": 59
        }
      ]
    },
    {
      "cell_type": "code",
      "metadata": {
        "id": "PR2cAN-s822Y"
      },
      "source": [
        "from sklearn.preprocessing import StandardScaler"
      ],
      "execution_count": 60,
      "outputs": []
    },
    {
      "cell_type": "code",
      "metadata": {
        "id": "UvPFaq9ODqVc"
      },
      "source": [
        "scaler = StandardScaler()\n",
        "xs_train = scaler.fit_transform(x_train)\n",
        "#x_test = x_test.to_numpy()\n",
        "#x_test = x_test.reshape(-1,1)\n",
        "xs_test = scaler.fit_transform(x_test)"
      ],
      "execution_count": 93,
      "outputs": []
    },
    {
      "cell_type": "markdown",
      "metadata": {
        "id": "1Mi6FBRe5GF4"
      },
      "source": [
        "Importing Logistic Regression"
      ]
    },
    {
      "cell_type": "code",
      "metadata": {
        "id": "Z7ipX-xWHyim"
      },
      "source": [
        "from sklearn.linear_model import LogisticRegression\n",
        "log = LogisticRegression(max_iter=500)\n"
      ],
      "execution_count": 62,
      "outputs": []
    },
    {
      "cell_type": "code",
      "metadata": {
        "id": "h8vBl0HiMIOu",
        "colab": {
          "base_uri": "https://localhost:8080/"
        },
        "outputId": "4652a4d7-c505-4b6e-bea6-3cefab74f3b1"
      },
      "source": [
        "y_train"
      ],
      "execution_count": 63,
      "outputs": [
        {
          "output_type": "execute_result",
          "data": {
            "text/plain": [
              "107587    1\n",
              "64553     1\n",
              "92184     1\n",
              "47045     3\n",
              "32824     3\n",
              "         ..\n",
              "70558     1\n",
              "103778    1\n",
              "106784    3\n",
              "81011     3\n",
              "16474     1\n",
              "Name: Surge_Pricing_Type, Length: 63036, dtype: int64"
            ]
          },
          "metadata": {
            "tags": []
          },
          "execution_count": 63
        }
      ]
    },
    {
      "cell_type": "markdown",
      "metadata": {
        "id": "vh27B1Rx5LfX"
      },
      "source": [
        "Fitting the model"
      ]
    },
    {
      "cell_type": "code",
      "metadata": {
        "id": "timjcezXJ6j8",
        "colab": {
          "base_uri": "https://localhost:8080/"
        },
        "outputId": "d6f9a65e-8f4d-4114-f567-709629bf3f46"
      },
      "source": [
        "model = log.fit(x_train,y_train)\n",
        "y_pred1 = model.predict(x_test)"
      ],
      "execution_count": 64,
      "outputs": [
        {
          "output_type": "stream",
          "text": [
            "/usr/local/lib/python3.7/dist-packages/sklearn/linear_model/_logistic.py:940: ConvergenceWarning: lbfgs failed to converge (status=1):\n",
            "STOP: TOTAL NO. of ITERATIONS REACHED LIMIT.\n",
            "\n",
            "Increase the number of iterations (max_iter) or scale the data as shown in:\n",
            "    https://scikit-learn.org/stable/modules/preprocessing.html\n",
            "Please also refer to the documentation for alternative solver options:\n",
            "    https://scikit-learn.org/stable/modules/linear_model.html#logistic-regression\n",
            "  extra_warning_msg=_LOGISTIC_SOLVER_CONVERGENCE_MSG)\n"
          ],
          "name": "stderr"
        }
      ]
    },
    {
      "cell_type": "markdown",
      "metadata": {
        "id": "1MIOtc7W5Nlv"
      },
      "source": [
        "Getting the below scores i.e without feature selection."
      ]
    },
    {
      "cell_type": "code",
      "metadata": {
        "id": "hsLWd1cROfA6",
        "colab": {
          "base_uri": "https://localhost:8080/"
        },
        "outputId": "6d8beba5-9d00-4a62-86a0-76612657066f"
      },
      "source": [
        "accuracy_score(y_test,y_pred1)*100"
      ],
      "execution_count": 65,
      "outputs": [
        {
          "output_type": "execute_result",
          "data": {
            "text/plain": [
              "68.20772875333135"
            ]
          },
          "metadata": {
            "tags": []
          },
          "execution_count": 65
        }
      ]
    },
    {
      "cell_type": "code",
      "metadata": {
        "id": "XCzmaUIDkTBR"
      },
      "source": [
        "from sklearn.metrics import f1_score"
      ],
      "execution_count": 66,
      "outputs": []
    },
    {
      "cell_type": "code",
      "metadata": {
        "id": "IBdDplS4j-oy",
        "colab": {
          "base_uri": "https://localhost:8080/"
        },
        "outputId": "94c70c48-5a24-4775-ac44-192c37e6b4d1"
      },
      "source": [
        "f1_score(y_test,y_pred1,average='macro')"
      ],
      "execution_count": 67,
      "outputs": [
        {
          "output_type": "execute_result",
          "data": {
            "text/plain": [
              "0.6740992040289688"
            ]
          },
          "metadata": {
            "tags": []
          },
          "execution_count": 67
        }
      ]
    },
    {
      "cell_type": "markdown",
      "metadata": {
        "id": "9swt_QLX5TeP"
      },
      "source": [
        "Performing Grid Search Cross Validation to get the best parameters"
      ]
    },
    {
      "cell_type": "code",
      "metadata": {
        "id": "ju9oX-xZnvW4"
      },
      "source": [
        "from sklearn.model_selection import KFold\n",
        "from sklearn.model_selection import GridSearchCV\n",
        "from sklearn.linear_model import LogisticRegression\n"
      ],
      "execution_count": 68,
      "outputs": []
    },
    {
      "cell_type": "code",
      "metadata": {
        "id": "pkWOAkiSnxKs",
        "colab": {
          "base_uri": "https://localhost:8080/"
        },
        "outputId": "44612d81-7408-49a9-ab56-a56426782038"
      },
      "source": [
        "model = LogisticRegression()\n",
        "solvers = ['newton-cg', 'lbfgs', 'liblinear']\n",
        "penalty = ['l2']\n",
        "c_values = [100, 10, 1.0, 0.1, 0.01]\n",
        "grid = dict(solver=solvers,penalty=penalty,C=c_values)\n",
        "cv = KFold(n_splits=10, random_state=1)\n",
        "grid_search = GridSearchCV(estimator=model, param_grid=grid, n_jobs=-1, cv=cv, scoring='accuracy',error_score=0)\n",
        "grid_result = grid_search.fit(x_train, y_train)\n",
        "print(\"Best: %f using %s\" % (grid_result.best_score_, grid_result.best_params_))\n",
        "means = grid_result.cv_results_['mean_test_score']\n",
        "stds = grid_result.cv_results_['std_test_score']\n",
        "params = grid_result.cv_results_['params']\n",
        "for mean, stdev, param in zip(means, stds, params):\n",
        "    print(\"%f (%f) with: %r\" % (mean, stdev, param))"
      ],
      "execution_count": 69,
      "outputs": [
        {
          "output_type": "stream",
          "text": [
            "/usr/local/lib/python3.7/dist-packages/sklearn/model_selection/_split.py:296: FutureWarning: Setting a random_state has no effect since shuffle is False. This will raise an error in 0.24. You should leave random_state to its default (None), or set shuffle=True.\n",
            "  FutureWarning\n"
          ],
          "name": "stderr"
        },
        {
          "output_type": "stream",
          "text": [
            "Best: 0.679992 using {'C': 10, 'penalty': 'l2', 'solver': 'lbfgs'}\n",
            "0.674662 (0.004210) with: {'C': 100, 'penalty': 'l2', 'solver': 'newton-cg'}\n",
            "0.679548 (0.005483) with: {'C': 100, 'penalty': 'l2', 'solver': 'lbfgs'}\n",
            "0.662970 (0.004339) with: {'C': 100, 'penalty': 'l2', 'solver': 'liblinear'}\n",
            "0.674662 (0.004210) with: {'C': 10, 'penalty': 'l2', 'solver': 'newton-cg'}\n",
            "0.679992 (0.005668) with: {'C': 10, 'penalty': 'l2', 'solver': 'lbfgs'}\n",
            "0.663129 (0.004368) with: {'C': 10, 'penalty': 'l2', 'solver': 'liblinear'}\n",
            "0.674630 (0.004225) with: {'C': 1.0, 'penalty': 'l2', 'solver': 'newton-cg'}\n",
            "0.679707 (0.005211) with: {'C': 1.0, 'penalty': 'l2', 'solver': 'lbfgs'}\n",
            "0.663097 (0.004232) with: {'C': 1.0, 'penalty': 'l2', 'solver': 'liblinear'}\n",
            "0.674900 (0.004382) with: {'C': 0.1, 'penalty': 'l2', 'solver': 'newton-cg'}\n",
            "0.679818 (0.006350) with: {'C': 0.1, 'penalty': 'l2', 'solver': 'lbfgs'}\n",
            "0.667380 (0.004548) with: {'C': 0.1, 'penalty': 'l2', 'solver': 'liblinear'}\n",
            "0.675963 (0.004075) with: {'C': 0.01, 'penalty': 'l2', 'solver': 'newton-cg'}\n",
            "0.679675 (0.005668) with: {'C': 0.01, 'penalty': 'l2', 'solver': 'lbfgs'}\n",
            "0.670632 (0.004765) with: {'C': 0.01, 'penalty': 'l2', 'solver': 'liblinear'}\n"
          ],
          "name": "stdout"
        },
        {
          "output_type": "stream",
          "text": [
            "/usr/local/lib/python3.7/dist-packages/sklearn/linear_model/_logistic.py:940: ConvergenceWarning: lbfgs failed to converge (status=1):\n",
            "STOP: TOTAL NO. of ITERATIONS REACHED LIMIT.\n",
            "\n",
            "Increase the number of iterations (max_iter) or scale the data as shown in:\n",
            "    https://scikit-learn.org/stable/modules/preprocessing.html\n",
            "Please also refer to the documentation for alternative solver options:\n",
            "    https://scikit-learn.org/stable/modules/linear_model.html#logistic-regression\n",
            "  extra_warning_msg=_LOGISTIC_SOLVER_CONVERGENCE_MSG)\n"
          ],
          "name": "stderr"
        }
      ]
    },
    {
      "cell_type": "code",
      "metadata": {
        "id": "gxJ-5QcqARCw",
        "colab": {
          "base_uri": "https://localhost:8080/"
        },
        "outputId": "c938292e-9d18-48ab-f68e-29938dc938d1"
      },
      "source": [
        "y.value_counts()"
      ],
      "execution_count": 70,
      "outputs": [
        {
          "output_type": "execute_result",
          "data": {
            "text/plain": [
              "2    38918\n",
              "3    32504\n",
              "1    18630\n",
              "Name: Surge_Pricing_Type, dtype: int64"
            ]
          },
          "metadata": {
            "tags": []
          },
          "execution_count": 70
        }
      ]
    },
    {
      "cell_type": "markdown",
      "metadata": {
        "id": "BeSe2SDQ5dZk"
      },
      "source": [
        "Importing Random Forest Classifier"
      ]
    },
    {
      "cell_type": "code",
      "metadata": {
        "id": "P_KnD0gtsCSR"
      },
      "source": [
        "from sklearn.ensemble import RandomForestClassifier"
      ],
      "execution_count": 71,
      "outputs": []
    },
    {
      "cell_type": "markdown",
      "metadata": {
        "id": "t9urjjpe5jhP"
      },
      "source": [
        "Performing Random Forest Classifier i.e without feature selection"
      ]
    },
    {
      "cell_type": "code",
      "metadata": {
        "id": "6qMlSDB8sS5z"
      },
      "source": [
        "rfc = RandomForestClassifier(n_estimators=500)"
      ],
      "execution_count": 72,
      "outputs": []
    },
    {
      "cell_type": "markdown",
      "metadata": {
        "id": "pdtot3aJ5vbc"
      },
      "source": [
        "Fitting the data"
      ]
    },
    {
      "cell_type": "code",
      "metadata": {
        "id": "d6kM0tsdsdBb"
      },
      "source": [
        "model02 = rfc.fit(x_train,y_train)"
      ],
      "execution_count": 73,
      "outputs": []
    },
    {
      "cell_type": "markdown",
      "metadata": {
        "id": "ZGlhud_Z5yHP"
      },
      "source": [
        "Predictring y_test"
      ]
    },
    {
      "cell_type": "code",
      "metadata": {
        "id": "eQhtdiVbsti1"
      },
      "source": [
        "y_pred02 = model02.predict(x_test)"
      ],
      "execution_count": 74,
      "outputs": []
    },
    {
      "cell_type": "markdown",
      "metadata": {
        "id": "vg9MhWfq51LK"
      },
      "source": [
        "Getting the accuracy for Random Forest without feature selection"
      ]
    },
    {
      "cell_type": "code",
      "metadata": {
        "id": "3sVEcioZs2uc",
        "colab": {
          "base_uri": "https://localhost:8080/"
        },
        "outputId": "7a3da02f-bdda-4ca1-93ce-719d3625fa20"
      },
      "source": [
        "accuracy_score(y_test,y_pred02)*100\n"
      ],
      "execution_count": 75,
      "outputs": [
        {
          "output_type": "execute_result",
          "data": {
            "text/plain": [
              "72.86793011548713"
            ]
          },
          "metadata": {
            "tags": []
          },
          "execution_count": 75
        }
      ]
    },
    {
      "cell_type": "markdown",
      "metadata": {
        "id": "1tf-OaTQ6ADJ"
      },
      "source": [
        "Getting the f1 score without feature selection"
      ]
    },
    {
      "cell_type": "code",
      "metadata": {
        "id": "3OAVmJjc7N-e",
        "colab": {
          "base_uri": "https://localhost:8080/"
        },
        "outputId": "428b3193-2670-4e26-ffed-af8a9ed52f7d"
      },
      "source": [
        "f1_score(y_test,y_pred02, average='macro')*100"
      ],
      "execution_count": 76,
      "outputs": [
        {
          "output_type": "execute_result",
          "data": {
            "text/plain": [
              "71.56923068415502"
            ]
          },
          "metadata": {
            "tags": []
          },
          "execution_count": 76
        }
      ]
    },
    {
      "cell_type": "markdown",
      "metadata": {
        "id": "-zxRKmAKCCbI"
      },
      "source": [
        "Here I have again performed the same Algorithms but with applying feature selection"
      ]
    },
    {
      "cell_type": "markdown",
      "metadata": {
        "id": "e3ilW2Gh6Qyl"
      },
      "source": [
        "Dropping the unimportant features "
      ]
    },
    {
      "cell_type": "code",
      "metadata": {
        "id": "V3LgFc96PkoE"
      },
      "source": [
        "taxi_df = taxi_df.drop(columns=['Customer_Since_Months','Destination_Type','Cancellation_Last_1Month','Confidence_Life_Style_Index','Gender'],axis=1)"
      ],
      "execution_count": 77,
      "outputs": []
    },
    {
      "cell_type": "code",
      "metadata": {
        "id": "sVXAPsruEpDM",
        "colab": {
          "base_uri": "https://localhost:8080/"
        },
        "outputId": "7fcb0876-6f20-41cc-afb4-5411b416595c"
      },
      "source": [
        "#Creating the predictors and target(The same which I performed above)\n",
        "x1 = taxi_df.iloc[:,taxi_df.columns!='Surge_Pricing_Types']\n",
        "y1=taxi_df['Surge_Pricing_Type']\n",
        "x1.shape"
      ],
      "execution_count": 78,
      "outputs": [
        {
          "output_type": "execute_result",
          "data": {
            "text/plain": [
              "(90052, 7)"
            ]
          },
          "metadata": {
            "tags": []
          },
          "execution_count": 78
        }
      ]
    },
    {
      "cell_type": "code",
      "metadata": {
        "colab": {
          "base_uri": "https://localhost:8080/",
          "height": 204
        },
        "id": "hMAOmhMyVGJS",
        "outputId": "e1a0ed3b-a605-439b-bf91-65992614b421"
      },
      "source": [
        "x1.head()"
      ],
      "execution_count": 92,
      "outputs": [
        {
          "output_type": "execute_result",
          "data": {
            "text/html": [
              "<div>\n",
              "<style scoped>\n",
              "    .dataframe tbody tr th:only-of-type {\n",
              "        vertical-align: middle;\n",
              "    }\n",
              "\n",
              "    .dataframe tbody tr th {\n",
              "        vertical-align: top;\n",
              "    }\n",
              "\n",
              "    .dataframe thead th {\n",
              "        text-align: right;\n",
              "    }\n",
              "</style>\n",
              "<table border=\"1\" class=\"dataframe\">\n",
              "  <thead>\n",
              "    <tr style=\"text-align: right;\">\n",
              "      <th></th>\n",
              "      <th>Trip_Distance</th>\n",
              "      <th>Type_of_Cab</th>\n",
              "      <th>Life_Style_Index</th>\n",
              "      <th>Customer_Rating</th>\n",
              "      <th>Var2</th>\n",
              "      <th>Var3</th>\n",
              "      <th>Surge_Pricing_Type</th>\n",
              "    </tr>\n",
              "  </thead>\n",
              "  <tbody>\n",
              "    <tr>\n",
              "      <th>0</th>\n",
              "      <td>6.77</td>\n",
              "      <td>1</td>\n",
              "      <td>2.42769</td>\n",
              "      <td>3.9050</td>\n",
              "      <td>46</td>\n",
              "      <td>60</td>\n",
              "      <td>2</td>\n",
              "    </tr>\n",
              "    <tr>\n",
              "      <th>1</th>\n",
              "      <td>29.47</td>\n",
              "      <td>1</td>\n",
              "      <td>2.78245</td>\n",
              "      <td>3.4500</td>\n",
              "      <td>56</td>\n",
              "      <td>78</td>\n",
              "      <td>2</td>\n",
              "    </tr>\n",
              "    <tr>\n",
              "      <th>4</th>\n",
              "      <td>54.95</td>\n",
              "      <td>2</td>\n",
              "      <td>3.03453</td>\n",
              "      <td>3.4025</td>\n",
              "      <td>49</td>\n",
              "      <td>102</td>\n",
              "      <td>2</td>\n",
              "    </tr>\n",
              "    <tr>\n",
              "      <th>6</th>\n",
              "      <td>29.72</td>\n",
              "      <td>4</td>\n",
              "      <td>2.83958</td>\n",
              "      <td>2.9750</td>\n",
              "      <td>50</td>\n",
              "      <td>75</td>\n",
              "      <td>2</td>\n",
              "    </tr>\n",
              "    <tr>\n",
              "      <th>7</th>\n",
              "      <td>18.44</td>\n",
              "      <td>1</td>\n",
              "      <td>2.81871</td>\n",
              "      <td>3.5825</td>\n",
              "      <td>46</td>\n",
              "      <td>63</td>\n",
              "      <td>2</td>\n",
              "    </tr>\n",
              "  </tbody>\n",
              "</table>\n",
              "</div>"
            ],
            "text/plain": [
              "   Trip_Distance  Type_of_Cab  Life_Style_Index  ...  Var2  Var3  Surge_Pricing_Type\n",
              "0           6.77            1           2.42769  ...    46    60                   2\n",
              "1          29.47            1           2.78245  ...    56    78                   2\n",
              "4          54.95            2           3.03453  ...    49   102                   2\n",
              "6          29.72            4           2.83958  ...    50    75                   2\n",
              "7          18.44            1           2.81871  ...    46    63                   2\n",
              "\n",
              "[5 rows x 7 columns]"
            ]
          },
          "metadata": {
            "tags": []
          },
          "execution_count": 92
        }
      ]
    },
    {
      "cell_type": "code",
      "metadata": {
        "id": "wFFX0o-uFkzu",
        "colab": {
          "base_uri": "https://localhost:8080/"
        },
        "outputId": "65521dbd-2594-47e6-8a94-2661f6eb6fea"
      },
      "source": [
        "y1.shape"
      ],
      "execution_count": 79,
      "outputs": [
        {
          "output_type": "execute_result",
          "data": {
            "text/plain": [
              "(90052,)"
            ]
          },
          "metadata": {
            "tags": []
          },
          "execution_count": 79
        }
      ]
    },
    {
      "cell_type": "code",
      "metadata": {
        "id": "nbtGczQhFT_n",
        "colab": {
          "base_uri": "https://localhost:8080/"
        },
        "outputId": "be627b73-22de-45ad-cb54-7b081be3a481"
      },
      "source": [
        "x1_train,x1_test,y1_train,y1_test=train_test_split(x1,y1,test_size=0.3)\n",
        "y1_train.shape"
      ],
      "execution_count": 80,
      "outputs": [
        {
          "output_type": "execute_result",
          "data": {
            "text/plain": [
              "(63036,)"
            ]
          },
          "metadata": {
            "tags": []
          },
          "execution_count": 80
        }
      ]
    },
    {
      "cell_type": "markdown",
      "metadata": {
        "id": "mpyCRw-W7MIA"
      },
      "source": [
        "Imputation Of Hyperparameter Tuning"
      ]
    },
    {
      "cell_type": "code",
      "metadata": {
        "id": "gB9AO_vxGQNo"
      },
      "source": [
        "log1 = LogisticRegression(C=1,penalty= 'l2', solver= 'lbfgs')"
      ],
      "execution_count": 81,
      "outputs": []
    },
    {
      "cell_type": "markdown",
      "metadata": {
        "id": "-OGhfAj87TWh"
      },
      "source": [
        "Fitting the model"
      ]
    },
    {
      "cell_type": "code",
      "metadata": {
        "id": "LFVF5ZdGHNuU",
        "colab": {
          "base_uri": "https://localhost:8080/"
        },
        "outputId": "458fac8e-05aa-4916-b05f-ba197f1cd2a5"
      },
      "source": [
        "model1 = log1.fit(x1_train,y1_train)\n",
        "y_pred01 = model1.predict(x1_test)"
      ],
      "execution_count": 82,
      "outputs": [
        {
          "output_type": "stream",
          "text": [
            "/usr/local/lib/python3.7/dist-packages/sklearn/linear_model/_logistic.py:940: ConvergenceWarning: lbfgs failed to converge (status=1):\n",
            "STOP: TOTAL NO. of ITERATIONS REACHED LIMIT.\n",
            "\n",
            "Increase the number of iterations (max_iter) or scale the data as shown in:\n",
            "    https://scikit-learn.org/stable/modules/preprocessing.html\n",
            "Please also refer to the documentation for alternative solver options:\n",
            "    https://scikit-learn.org/stable/modules/linear_model.html#logistic-regression\n",
            "  extra_warning_msg=_LOGISTIC_SOLVER_CONVERGENCE_MSG)\n"
          ],
          "name": "stderr"
        }
      ]
    },
    {
      "cell_type": "markdown",
      "metadata": {
        "id": "j2B_nGJd7XAL"
      },
      "source": [
        "Getting the desired Score after feature selection and hyperparameter tuning"
      ]
    },
    {
      "cell_type": "code",
      "metadata": {
        "id": "TB4HQSXBJ4ab",
        "colab": {
          "base_uri": "https://localhost:8080/"
        },
        "outputId": "3d3f88ce-7088-4da0-bb61-bbe3e92c61ac"
      },
      "source": [
        "y_pred_train = model1.predict(x1_train)\n",
        "accuracy_score(y1_train,y_pred_train)*100"
      ],
      "execution_count": 83,
      "outputs": [
        {
          "output_type": "execute_result",
          "data": {
            "text/plain": [
              "99.74141760263976"
            ]
          },
          "metadata": {
            "tags": []
          },
          "execution_count": 83
        }
      ]
    },
    {
      "cell_type": "code",
      "metadata": {
        "id": "c6FDBlIQI6kg",
        "colab": {
          "base_uri": "https://localhost:8080/"
        },
        "outputId": "38994a95-36fc-4537-c711-a1eb64f512a6"
      },
      "source": [
        "accuracy_score(y1_test,y_pred01)*100"
      ],
      "execution_count": 84,
      "outputs": [
        {
          "output_type": "execute_result",
          "data": {
            "text/plain": [
              "99.71128220313888"
            ]
          },
          "metadata": {
            "tags": []
          },
          "execution_count": 84
        }
      ]
    },
    {
      "cell_type": "code",
      "metadata": {
        "id": "sxEr_xNmL4Ru",
        "colab": {
          "base_uri": "https://localhost:8080/"
        },
        "outputId": "a9c98e7e-354d-408e-af91-ef4cb0dbe592"
      },
      "source": [
        "f1_score(y1_test,y_pred01,average='macro')*100"
      ],
      "execution_count": 85,
      "outputs": [
        {
          "output_type": "execute_result",
          "data": {
            "text/plain": [
              "99.74357616988998"
            ]
          },
          "metadata": {
            "tags": []
          },
          "execution_count": 85
        }
      ]
    },
    {
      "cell_type": "markdown",
      "metadata": {
        "id": "biPSQATP7iGe"
      },
      "source": [
        "Now performing the standarization of data using StandardScaler"
      ]
    },
    {
      "cell_type": "code",
      "metadata": {
        "id": "FI_8UkPIX_IU"
      },
      "source": [
        "scaler = StandardScaler()\n",
        "xs_train = scaler.fit_transform(x1_train)\n",
        "#x_test = x_test.to_numpy()\n",
        "#x_test = x_test.reshape(-1,1)\n",
        "xs_test = scaler.fit_transform(x1_test)\n",
        "\n"
      ],
      "execution_count": 95,
      "outputs": []
    },
    {
      "cell_type": "markdown",
      "metadata": {
        "id": "2h1C0cNW7qGi"
      },
      "source": [
        "Getting to know the confusion matrix (After Performing Standardisation)"
      ]
    },
    {
      "cell_type": "code",
      "metadata": {
        "colab": {
          "base_uri": "https://localhost:8080/"
        },
        "id": "USyCQK3YZgJ_",
        "outputId": "c7720052-b89a-4080-dff6-e730bf30ebd0"
      },
      "source": [
        "mod1 = log1.fit(xs_train,y1_train)\n",
        "y_pred01 = mod1.predict(xs_test)\n",
        "\n",
        "from sklearn.metrics import classification_report,confusion_matrix\n",
        "print(classification_report(y1_test, y_pred01))\n",
        "print(confusion_matrix(y1_test, y_pred01))\n"
      ],
      "execution_count": 96,
      "outputs": [
        {
          "output_type": "stream",
          "text": [
            "              precision    recall  f1-score   support\n",
            "\n",
            "           1       1.00      1.00      1.00      5620\n",
            "           2       1.00      1.00      1.00     11680\n",
            "           3       1.00      1.00      1.00      9716\n",
            "\n",
            "    accuracy                           1.00     27016\n",
            "   macro avg       1.00      1.00      1.00     27016\n",
            "weighted avg       1.00      1.00      1.00     27016\n",
            "\n",
            "[[ 5620     0     0]\n",
            " [    0 11680     0]\n",
            " [    0     0  9716]]\n"
          ],
          "name": "stdout"
        }
      ]
    },
    {
      "cell_type": "code",
      "metadata": {
        "colab": {
          "base_uri": "https://localhost:8080/",
          "height": 204
        },
        "id": "X7hhr465eQwy",
        "outputId": "e02cd146-aa5d-4cb2-c196-d7ac24012325"
      },
      "source": [
        "x1.head()"
      ],
      "execution_count": 97,
      "outputs": [
        {
          "output_type": "execute_result",
          "data": {
            "text/html": [
              "<div>\n",
              "<style scoped>\n",
              "    .dataframe tbody tr th:only-of-type {\n",
              "        vertical-align: middle;\n",
              "    }\n",
              "\n",
              "    .dataframe tbody tr th {\n",
              "        vertical-align: top;\n",
              "    }\n",
              "\n",
              "    .dataframe thead th {\n",
              "        text-align: right;\n",
              "    }\n",
              "</style>\n",
              "<table border=\"1\" class=\"dataframe\">\n",
              "  <thead>\n",
              "    <tr style=\"text-align: right;\">\n",
              "      <th></th>\n",
              "      <th>Trip_Distance</th>\n",
              "      <th>Type_of_Cab</th>\n",
              "      <th>Life_Style_Index</th>\n",
              "      <th>Customer_Rating</th>\n",
              "      <th>Var2</th>\n",
              "      <th>Var3</th>\n",
              "      <th>Surge_Pricing_Type</th>\n",
              "    </tr>\n",
              "  </thead>\n",
              "  <tbody>\n",
              "    <tr>\n",
              "      <th>0</th>\n",
              "      <td>6.77</td>\n",
              "      <td>1</td>\n",
              "      <td>2.42769</td>\n",
              "      <td>3.9050</td>\n",
              "      <td>46</td>\n",
              "      <td>60</td>\n",
              "      <td>2</td>\n",
              "    </tr>\n",
              "    <tr>\n",
              "      <th>1</th>\n",
              "      <td>29.47</td>\n",
              "      <td>1</td>\n",
              "      <td>2.78245</td>\n",
              "      <td>3.4500</td>\n",
              "      <td>56</td>\n",
              "      <td>78</td>\n",
              "      <td>2</td>\n",
              "    </tr>\n",
              "    <tr>\n",
              "      <th>4</th>\n",
              "      <td>54.95</td>\n",
              "      <td>2</td>\n",
              "      <td>3.03453</td>\n",
              "      <td>3.4025</td>\n",
              "      <td>49</td>\n",
              "      <td>102</td>\n",
              "      <td>2</td>\n",
              "    </tr>\n",
              "    <tr>\n",
              "      <th>6</th>\n",
              "      <td>29.72</td>\n",
              "      <td>4</td>\n",
              "      <td>2.83958</td>\n",
              "      <td>2.9750</td>\n",
              "      <td>50</td>\n",
              "      <td>75</td>\n",
              "      <td>2</td>\n",
              "    </tr>\n",
              "    <tr>\n",
              "      <th>7</th>\n",
              "      <td>18.44</td>\n",
              "      <td>1</td>\n",
              "      <td>2.81871</td>\n",
              "      <td>3.5825</td>\n",
              "      <td>46</td>\n",
              "      <td>63</td>\n",
              "      <td>2</td>\n",
              "    </tr>\n",
              "  </tbody>\n",
              "</table>\n",
              "</div>"
            ],
            "text/plain": [
              "   Trip_Distance  Type_of_Cab  Life_Style_Index  ...  Var2  Var3  Surge_Pricing_Type\n",
              "0           6.77            1           2.42769  ...    46    60                   2\n",
              "1          29.47            1           2.78245  ...    56    78                   2\n",
              "4          54.95            2           3.03453  ...    49   102                   2\n",
              "6          29.72            4           2.83958  ...    50    75                   2\n",
              "7          18.44            1           2.81871  ...    46    63                   2\n",
              "\n",
              "[5 rows x 7 columns]"
            ]
          },
          "metadata": {
            "tags": []
          },
          "execution_count": 97
        }
      ]
    },
    {
      "cell_type": "markdown",
      "metadata": {
        "id": "GTvDpKLK73Jn"
      },
      "source": [
        "Getting to see the array of xs_train"
      ]
    },
    {
      "cell_type": "code",
      "metadata": {
        "colab": {
          "base_uri": "https://localhost:8080/"
        },
        "id": "N3jKkegPiPFx",
        "outputId": "00673486-cae7-4d5d-e1d7-821e31688ed9"
      },
      "source": [
        "xs_train"
      ],
      "execution_count": 98,
      "outputs": [
        {
          "output_type": "execute_result",
          "data": {
            "text/plain": [
              "array([[-1.05420194,  0.23197324, -1.96958547, ..., -1.05723638,\n",
              "        -1.56745126,  1.14567688],\n",
              "       [ 1.1523056 , -0.5693126 ,  1.65154073, ...,  1.55671719,\n",
              "         3.26252412,  1.14567688],\n",
              "       [ 0.03630765,  1.83454494, -0.25206185, ..., -0.45401633,\n",
              "         0.50253819,  1.14567688],\n",
              "       ...,\n",
              "       [-0.41738512,  1.83454494, -1.45902881, ...,  2.7631573 ,\n",
              "         1.36503379,  1.14567688],\n",
              "       [ 0.69469154, -0.5693126 , -0.47806959, ...,  0.75242378,\n",
              "         0.07129039, -0.21034264],\n",
              "       [ 0.65587081, -1.37059845, -0.64670787, ...,  0.95349713,\n",
              "        -0.10120873,  1.14567688]])"
            ]
          },
          "metadata": {
            "tags": []
          },
          "execution_count": 98
        }
      ]
    },
    {
      "cell_type": "markdown",
      "metadata": {
        "id": "N5RqXqSa9IMG"
      },
      "source": [
        "Score after performing Standardization"
      ]
    },
    {
      "cell_type": "code",
      "metadata": {
        "colab": {
          "base_uri": "https://localhost:8080/"
        },
        "id": "32Oa5yPW16oH",
        "outputId": "05d050d8-c5cc-488b-9136-9b829d30df35"
      },
      "source": [
        "y_pred_train01 = model1.predict(xs_train)\n",
        "accuracy_score(y1_train,y_pred_train01)*100"
      ],
      "execution_count": 99,
      "outputs": [
        {
          "output_type": "execute_result",
          "data": {
            "text/plain": [
              "100.0"
            ]
          },
          "metadata": {
            "tags": []
          },
          "execution_count": 99
        }
      ]
    },
    {
      "cell_type": "code",
      "metadata": {
        "colab": {
          "base_uri": "https://localhost:8080/"
        },
        "id": "2J653nEK2aEy",
        "outputId": "b553cdcb-1401-4f2f-d8fb-950b0ae74a7a"
      },
      "source": [
        "accuracy_score(y1_test,y_pred01)*100"
      ],
      "execution_count": 100,
      "outputs": [
        {
          "output_type": "execute_result",
          "data": {
            "text/plain": [
              "100.0"
            ]
          },
          "metadata": {
            "tags": []
          },
          "execution_count": 100
        }
      ]
    },
    {
      "cell_type": "markdown",
      "metadata": {
        "id": "YhxBrCyHQpOk"
      },
      "source": [
        "Random Forest"
      ]
    },
    {
      "cell_type": "markdown",
      "metadata": {
        "id": "wf757BHn9RE2"
      },
      "source": [
        "Random Forest Implementation After Feature Selection and also providing the n_estimator as well"
      ]
    },
    {
      "cell_type": "code",
      "metadata": {
        "id": "NMKkeiqOQot_"
      },
      "source": [
        "rfc1 = RandomForestClassifier(n_estimators=100)"
      ],
      "execution_count": 86,
      "outputs": []
    },
    {
      "cell_type": "markdown",
      "metadata": {
        "id": "cds_c7qo9xQP"
      },
      "source": [
        "Fitting the model"
      ]
    },
    {
      "cell_type": "code",
      "metadata": {
        "id": "KxnkYpSOQ0EL"
      },
      "source": [
        "model_02 = rfc1.fit(x1_train,y1_train)"
      ],
      "execution_count": 87,
      "outputs": []
    },
    {
      "cell_type": "code",
      "metadata": {
        "id": "tiJw-xmNROOX"
      },
      "source": [
        "y_pred_02 = model_02.predict(x1_test)"
      ],
      "execution_count": 88,
      "outputs": []
    },
    {
      "cell_type": "markdown",
      "metadata": {
        "id": "VaRcchf490J_"
      },
      "source": [
        "Getting the scores below for Random Forest after feature selection"
      ]
    },
    {
      "cell_type": "code",
      "metadata": {
        "id": "eEQB4pbSSC1J",
        "colab": {
          "base_uri": "https://localhost:8080/"
        },
        "outputId": "d78eeb24-c0bd-4afc-c321-dc0d805bd63b"
      },
      "source": [
        "y_pred_train1 = model_02.predict(x1_train)\n",
        "accuracy_score(y1_train,y_pred_train1)*100"
      ],
      "execution_count": 89,
      "outputs": [
        {
          "output_type": "execute_result",
          "data": {
            "text/plain": [
              "100.0"
            ]
          },
          "metadata": {
            "tags": []
          },
          "execution_count": 89
        }
      ]
    },
    {
      "cell_type": "code",
      "metadata": {
        "id": "8LCkL5K_RY1u",
        "colab": {
          "base_uri": "https://localhost:8080/"
        },
        "outputId": "05607a7f-38a5-4b62-85c2-a3dded313503"
      },
      "source": [
        "accuracy_score(y1_test,y_pred_02)*100"
      ],
      "execution_count": 90,
      "outputs": [
        {
          "output_type": "execute_result",
          "data": {
            "text/plain": [
              "100.0"
            ]
          },
          "metadata": {
            "tags": []
          },
          "execution_count": 90
        }
      ]
    },
    {
      "cell_type": "markdown",
      "metadata": {
        "id": "_9z3TmfX-EbP"
      },
      "source": [
        "Was not able to perform some of the other hyperparameter tuning as it was abrubtly ending hence had to remove them but those have been included in our teams final notebook"
      ]
    }
  ]
}